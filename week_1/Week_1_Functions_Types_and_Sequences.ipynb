{
  "nbformat": 4,
  "nbformat_minor": 0,
  "metadata": {
    "kernelspec": {
      "display_name": "Python 3",
      "language": "python",
      "name": "python3"
    },
    "language_info": {
      "codemirror_mode": {
        "name": "ipython",
        "version": 3
      },
      "file_extension": ".py",
      "mimetype": "text/x-python",
      "name": "python",
      "nbconvert_exporter": "python",
      "pygments_lexer": "ipython3",
      "version": "3.6.2"
    },
    "colab": {
      "name": "Week_1_Functions_Types_and_Sequences.ipynb",
      "provenance": [],
      "collapsed_sections": [
        "-GeyrABtFgnQ",
        "7HT1LkMhFgn6",
        "lAmczlr6FgoL"
      ]
    }
  },
  "cells": [
    {
      "cell_type": "markdown",
      "metadata": {
        "id": "D90pXSKwFgkZ",
        "colab_type": "text"
      },
      "source": [
        "## Linguagem de Programação Python: Funções##"
      ]
    },
    {
      "cell_type": "markdown",
      "metadata": {
        "id": "YHSV3wkiFksO",
        "colab_type": "text"
      },
      "source": [
        "Python é uma linguagem fracamente tipada, portanto não é necessário definir os tipos de suas variáveis. Para criar uma nova variável, basta escrever o nome dela e atribuir um valor qualquer usando o operador de atribuição \"**=**\"."
      ]
    },
    {
      "cell_type": "code",
      "metadata": {
        "id": "Qm6E8Zu4Fgkb",
        "colab_type": "code",
        "colab": {
          "base_uri": "https://localhost:8080/",
          "height": 34
        },
        "outputId": "7475bd53-a379-48fe-9247-687123f2e84a"
      },
      "source": [
        "x = 1\n",
        "y = 2\n",
        "x"
      ],
      "execution_count": null,
      "outputs": [
        {
          "output_type": "execute_result",
          "data": {
            "text/plain": [
              "1"
            ]
          },
          "metadata": {
            "tags": []
          },
          "execution_count": 5
        }
      ]
    },
    {
      "cell_type": "markdown",
      "metadata": {
        "id": "CGb9MYwSJAm7",
        "colab_type": "text"
      },
      "source": [
        "Assim como em outras linguagens, no Python também podemos usar as quatro operações aritméticas básicas que são soma, subtração, multiplicação e divisão. Contudo, para divisão existem dois operadores diferentes, sendo eles **`/`** para divisão decimal e **`//`** para divisão inteira. Além disso, há os operadores `**` para cálculo de potência e **`%`** para resto da divisão."
      ]
    },
    {
      "cell_type": "code",
      "metadata": {
        "scrolled": true,
        "id": "gWoKVSaaFgkk",
        "colab_type": "code",
        "colab": {
          "base_uri": "https://localhost:8080/",
          "height": 136
        },
        "outputId": "9ccc3f8e-bbd5-4d75-8c76-6776584ae8fa"
      },
      "source": [
        "print('x + y  = {}'.format(x + y))  # Adição\n",
        "print('x - y  = {}'.format(x - y))  # Subtração\n",
        "print('x * y  = {}'.format(x * y))  # Multiplicação\n",
        "print('x / y  = {}'.format(x / y))  # Divisão\n",
        "print('x // y = {}'.format(x // y)) # Divisão inteira\n",
        "print('x ** y = {}'.format(x ** y)) # Potenciação\n",
        "print('x % y  = {}'.format(x % y))  # Resto da divisão"
      ],
      "execution_count": null,
      "outputs": [
        {
          "output_type": "stream",
          "text": [
            "x + y  = 3\n",
            "x - y  = -1\n",
            "x * y  = 2\n",
            "x / y  = 0.5\n",
            "x // y = 0\n",
            "x ** y = 1\n",
            "x % y  = 1\n"
          ],
          "name": "stdout"
        }
      ]
    },
    {
      "cell_type": "markdown",
      "metadata": {
        "id": "VDwvFEN7La6x",
        "colab_type": "text"
      },
      "source": [
        "O operador **`-`** também pode ser usado para tornar um número negativo."
      ]
    },
    {
      "cell_type": "code",
      "metadata": {
        "id": "FpO-u9mOLXQ5",
        "colab_type": "code",
        "colab": {
          "base_uri": "https://localhost:8080/",
          "height": 51
        },
        "outputId": "874380c5-c209-4668-8032-552338c0a280"
      },
      "source": [
        " print('-x = {}'.format(-x))\n",
        " print('-y = {}'.format(-y))"
      ],
      "execution_count": null,
      "outputs": [
        {
          "output_type": "stream",
          "text": [
            "-x = -1\n",
            "-y = -2\n"
          ],
          "name": "stdout"
        }
      ]
    },
    {
      "cell_type": "markdown",
      "metadata": {
        "id": "gAsZNCQENBVO",
        "colab_type": "text"
      },
      "source": [
        "Funções são blocos de código que apenas são executados se forem chamado. Dados podem ser passados para funções através de variáveis chamadas de **parâmetros**. No Python as funções são geradas usando a palavra chave **`def`**, e seus parâmetros podem receber qualquer tipo de dado, sejam eles valores primitivos (inteiros, decimais, booleanos e caracteres), listas, strings, objetos ou até mesmo outras funções. Podemos fazer uma função retornar valor através da palavra chave **`return`**."
      ]
    },
    {
      "cell_type": "code",
      "metadata": {
        "id": "w-FeyHTxFgku",
        "colab_type": "code",
        "colab": {
          "base_uri": "https://localhost:8080/",
          "height": 34
        },
        "outputId": "0aa7dea0-7090-4c6f-e70a-02200326ddda"
      },
      "source": [
        "def add_numbers(x, y):\n",
        "    return x + y\n",
        "\n",
        "add_numbers(1, 2)"
      ],
      "execution_count": null,
      "outputs": [
        {
          "output_type": "execute_result",
          "data": {
            "text/plain": [
              "3"
            ]
          },
          "metadata": {
            "tags": []
          },
          "execution_count": 21
        }
      ]
    },
    {
      "cell_type": "markdown",
      "metadata": {
        "id": "brYvwXINPMKy",
        "colab_type": "text"
      },
      "source": [
        "No Python os parâmetros de uma função podem ter um valor atribuído por padrão. Com isso, a função pode ser chamada sem inserir valor nos parâmetros já valorados."
      ]
    },
    {
      "cell_type": "code",
      "metadata": {
        "id": "Qjnk6ZtUFgk0",
        "colab_type": "code",
        "colab": {
          "base_uri": "https://localhost:8080/",
          "height": 51
        },
        "outputId": "ea2222a7-1684-4fa4-a017-526d8021048c"
      },
      "source": [
        "def add_numbers(x, y, z=0):\n",
        "    return x + y + z\n",
        "\n",
        "print(add_numbers(1, 2))\n",
        "print(add_numbers(1, 2, 3))"
      ],
      "execution_count": null,
      "outputs": [
        {
          "output_type": "stream",
          "text": [
            "3\n",
            "6\n"
          ],
          "name": "stdout"
        }
      ]
    },
    {
      "cell_type": "markdown",
      "metadata": {
        "id": "gXCINtktQcmS",
        "colab_type": "text"
      },
      "source": [
        "Parâmetros com valores inseridos por padrão devem sempre ser colocados à direita."
      ]
    },
    {
      "cell_type": "code",
      "metadata": {
        "id": "5ZUoo2unFgk7",
        "colab_type": "code",
        "colab": {
          "base_uri": "https://localhost:8080/",
          "height": 51
        },
        "outputId": "b73244bd-d0f8-4434-dcfa-74794b9d5c0e"
      },
      "source": [
        "def add_numbers(x, y, z=None, flag=False):\n",
        "    if (flag):\n",
        "        print('Flag is true!')\n",
        "    if(z == None):\n",
        "        return x + y\n",
        "    else:\n",
        "        return x + y + z\n",
        "\n",
        "print(add_numbers(1, 2, flag=True))"
      ],
      "execution_count": null,
      "outputs": [
        {
          "output_type": "stream",
          "text": [
            "Flag is true!\n",
            "3\n"
          ],
          "name": "stdout"
        }
      ]
    },
    {
      "cell_type": "markdown",
      "metadata": {
        "id": "3Aa_iAeMFglB",
        "colab_type": "text"
      },
      "source": [
        "## Linguagem de Programação Python: Tipos e Sequências ##"
      ]
    },
    {
      "cell_type": "markdown",
      "metadata": {
        "id": "ruoqpe4XRZJb",
        "colab_type": "text"
      },
      "source": [
        "Apesar de não ser necessário definir explicitamente os tipos das variáveis (como em linguagens fortemente tipadas tais como C, C++ e Java), isso não significa que no Python não existam tipos. Para ver o tipo de um valor, basta usar a função **`type`**."
      ]
    },
    {
      "cell_type": "code",
      "metadata": {
        "id": "pHHRTjGmFglC",
        "colab_type": "code",
        "colab": {
          "base_uri": "https://localhost:8080/",
          "height": 34
        },
        "outputId": "cb5f4578-c475-4bc5-ce56-293b16ea67f9"
      },
      "source": [
        "type('This is a string.') # String são sequências de caracteres."
      ],
      "execution_count": null,
      "outputs": [
        {
          "output_type": "execute_result",
          "data": {
            "text/plain": [
              "str"
            ]
          },
          "metadata": {
            "tags": []
          },
          "execution_count": 30
        }
      ]
    },
    {
      "cell_type": "code",
      "metadata": {
        "id": "IywIcuEaFglI",
        "colab_type": "code",
        "colab": {
          "base_uri": "https://localhost:8080/",
          "height": 34
        },
        "outputId": "b48bd2f8-2bbf-4344-e96a-5433b191f509"
      },
      "source": [
        "type(None) # None é um valor nulo (equivale a \"null\" em outras linguagens)."
      ],
      "execution_count": null,
      "outputs": [
        {
          "output_type": "execute_result",
          "data": {
            "text/plain": [
              "NoneType"
            ]
          },
          "metadata": {
            "tags": []
          },
          "execution_count": 33
        }
      ]
    },
    {
      "cell_type": "code",
      "metadata": {
        "id": "p7VI4UoxFglS",
        "colab_type": "code",
        "colab": {
          "base_uri": "https://localhost:8080/",
          "height": 34
        },
        "outputId": "07ae331d-9825-4131-b931-d7b5320ad53d"
      },
      "source": [
        "type(1)"
      ],
      "execution_count": null,
      "outputs": [
        {
          "output_type": "execute_result",
          "data": {
            "text/plain": [
              "int"
            ]
          },
          "metadata": {
            "tags": []
          },
          "execution_count": 34
        }
      ]
    },
    {
      "cell_type": "code",
      "metadata": {
        "id": "ID9BngT2FglX",
        "colab_type": "code",
        "colab": {
          "base_uri": "https://localhost:8080/",
          "height": 34
        },
        "outputId": "153502fa-32ea-4d08-c433-fbffcecc2fb2"
      },
      "source": [
        "type(1.0)"
      ],
      "execution_count": null,
      "outputs": [
        {
          "output_type": "execute_result",
          "data": {
            "text/plain": [
              "float"
            ]
          },
          "metadata": {
            "tags": []
          },
          "execution_count": 35
        }
      ]
    },
    {
      "cell_type": "code",
      "metadata": {
        "id": "0lYkDj2JFglc",
        "colab_type": "code",
        "colab": {
          "base_uri": "https://localhost:8080/",
          "height": 34
        },
        "outputId": "7183a9ae-86ad-4b55-ab40-59253f21d711"
      },
      "source": [
        "type(add_numbers)"
      ],
      "execution_count": null,
      "outputs": [
        {
          "output_type": "execute_result",
          "data": {
            "text/plain": [
              "function"
            ]
          },
          "metadata": {
            "tags": []
          },
          "execution_count": 36
        }
      ]
    },
    {
      "cell_type": "markdown",
      "metadata": {
        "id": "D0_KW74XSyIy",
        "colab_type": "text"
      },
      "source": [
        "Tuplas são sequências de valores gerados com o operador parêntesis \"( )\", podendo eles serem de qualquer tipo. Tuplas são imutáveis, ou seja, não podem ter seus valores alterados e nem receber novos valores."
      ]
    },
    {
      "cell_type": "code",
      "metadata": {
        "id": "IP-rWRs9Fglg",
        "colab_type": "code",
        "colab": {
          "base_uri": "https://localhost:8080/",
          "height": 34
        },
        "outputId": "4f20b06a-4fe1-4bc1-d881-26c38e9589b1"
      },
      "source": [
        "x = (1, 'a', 2.0, 'Sabrina')\n",
        "type(x)"
      ],
      "execution_count": 3,
      "outputs": [
        {
          "output_type": "execute_result",
          "data": {
            "text/plain": [
              "tuple"
            ]
          },
          "metadata": {
            "tags": []
          },
          "execution_count": 3
        }
      ]
    },
    {
      "cell_type": "markdown",
      "metadata": {
        "id": "gSG7hrfdTDv7",
        "colab_type": "text"
      },
      "source": [
        "Listas são sequências de valores gerados com o operador \"[ ]\" que podem ser de qualquer tipo. Ao contrário das tuplas, listas podem ter seus valores alterados e receber novos valores."
      ]
    },
    {
      "cell_type": "code",
      "metadata": {
        "id": "6msJpDWUFgll",
        "colab_type": "code",
        "colab": {
          "base_uri": "https://localhost:8080/",
          "height": 34
        },
        "outputId": "036300b5-9269-490e-9d2c-663916dd66d4"
      },
      "source": [
        "y = [1, 'a', 3, 'b']\n",
        "type(y)"
      ],
      "execution_count": 2,
      "outputs": [
        {
          "output_type": "execute_result",
          "data": {
            "text/plain": [
              "list"
            ]
          },
          "metadata": {
            "tags": []
          },
          "execution_count": 2
        }
      ]
    },
    {
      "cell_type": "markdown",
      "metadata": {
        "id": "hBlZ6wYwUPMu",
        "colab_type": "text"
      },
      "source": [
        "Para inserir um novo valor numa lista, basta usar a função **`.append`**."
      ]
    },
    {
      "cell_type": "code",
      "metadata": {
        "id": "YO_hxQMWFglr",
        "colab_type": "code",
        "colab": {},
        "outputId": "06f1711c-2bfd-4707-c012-4711880244bc"
      },
      "source": [
        "y.append(5)\n",
        "print(y)"
      ],
      "execution_count": null,
      "outputs": [
        {
          "output_type": "stream",
          "text": [
            "[1, 'a', 3, 'b', 5]\n"
          ],
          "name": "stdout"
        }
      ]
    },
    {
      "cell_type": "markdown",
      "metadata": {
        "id": "kqxM5b5bKDP3",
        "colab_type": "text"
      },
      "source": [
        "O loop **`for`** também predomina no Python, mas assim como no Java e no JavaScript ele também possui uma variante na qual permite pegar itens de um objeto iterável em cada interação sem precisar usar o índice."
      ]
    },
    {
      "cell_type": "code",
      "metadata": {
        "id": "113kJworFglv",
        "colab_type": "code",
        "colab": {
          "base_uri": "https://localhost:8080/",
          "height": 85
        },
        "outputId": "fb87f5d4-d93c-4e00-efee-37d9c88d728f"
      },
      "source": [
        "for item in y:\n",
        "    print(item)"
      ],
      "execution_count": 5,
      "outputs": [
        {
          "output_type": "stream",
          "text": [
            "1\n",
            "a\n",
            "3\n",
            "b\n"
          ],
          "name": "stdout"
        }
      ]
    },
    {
      "cell_type": "markdown",
      "metadata": {
        "id": "36jSWuo4LKYp",
        "colab_type": "text"
      },
      "source": [
        "O loop **`while`**, tal como em outras linguagens, executa um bloco de código enquanto a condição estabelecida for verdadeira. No exemplo abaixo a condição é que **i** seja menor que o tamanho da lista x."
      ]
    },
    {
      "cell_type": "code",
      "metadata": {
        "id": "tbTgbLKeFglz",
        "colab_type": "code",
        "colab": {
          "base_uri": "https://localhost:8080/",
          "height": 85
        },
        "outputId": "e0f908e0-e8a9-4f04-dda6-274fbfd538b3"
      },
      "source": [
        "i = 0\n",
        "while(i < len(x)):\n",
        "    print(x[i])\n",
        "    i += 1"
      ],
      "execution_count": 7,
      "outputs": [
        {
          "output_type": "stream",
          "text": [
            "1\n",
            "a\n",
            "2.0\n",
            "Sabrina\n"
          ],
          "name": "stdout"
        }
      ]
    },
    {
      "cell_type": "markdown",
      "metadata": {
        "id": "ZaEn9UVtLv3b",
        "colab_type": "text"
      },
      "source": [
        "O operador **`+`** no Python, além de somar valores, também pode ser usado para unir listas."
      ]
    },
    {
      "cell_type": "code",
      "metadata": {
        "id": "SJ6cFXHBFgl3",
        "colab_type": "code",
        "colab": {},
        "outputId": "a39f51a3-77e7-4ed3-92f7-7b3e4a1e04f6"
      },
      "source": [
        "[1, 2] + [3, 4]"
      ],
      "execution_count": null,
      "outputs": [
        {
          "output_type": "execute_result",
          "data": {
            "text/plain": [
              "[1, 2, 3, 4]"
            ]
          },
          "metadata": {
            "tags": []
          },
          "execution_count": 25
        }
      ]
    },
    {
      "cell_type": "code",
      "metadata": {
        "id": "5lCyYAlfL_qA",
        "colab_type": "code",
        "colab": {
          "base_uri": "https://localhost:8080/",
          "height": 35
        },
        "outputId": "6df80151-4091-4247-db25-5d82095e5d8c"
      },
      "source": [
        "'José' + ' ' + 'Victor'"
      ],
      "execution_count": 8,
      "outputs": [
        {
          "output_type": "execute_result",
          "data": {
            "application/vnd.google.colaboratory.intrinsic+json": {
              "type": "string"
            },
            "text/plain": [
              "'José Victor'"
            ]
          },
          "metadata": {
            "tags": []
          },
          "execution_count": 8
        }
      ]
    },
    {
      "cell_type": "markdown",
      "metadata": {
        "id": "9wMfFwubMKSw",
        "colab_type": "text"
      },
      "source": [
        "E o operador **`*`**, além de multiplicar números, também pode ser usado para repetir valores de um array."
      ]
    },
    {
      "cell_type": "code",
      "metadata": {
        "id": "ZGdVxZYhFgl7",
        "colab_type": "code",
        "colab": {
          "base_uri": "https://localhost:8080/",
          "height": 34
        },
        "outputId": "bb93d20f-9a85-4a2b-fb86-d71969300786"
      },
      "source": [
        "[1] * 3"
      ],
      "execution_count": 9,
      "outputs": [
        {
          "output_type": "execute_result",
          "data": {
            "text/plain": [
              "[1, 1, 1]"
            ]
          },
          "metadata": {
            "tags": []
          },
          "execution_count": 9
        }
      ]
    },
    {
      "cell_type": "code",
      "metadata": {
        "id": "RaCJk5GdMeOv",
        "colab_type": "code",
        "colab": {
          "base_uri": "https://localhost:8080/",
          "height": 34
        },
        "outputId": "da620e1a-8159-4ff5-832d-9475dc432b18"
      },
      "source": [
        "[1, 'abc', 2.3, 'e'] * 3"
      ],
      "execution_count": 10,
      "outputs": [
        {
          "output_type": "execute_result",
          "data": {
            "text/plain": [
              "[1, 'abc', 2.3, 'e', 1, 'abc', 2.3, 'e', 1, 'abc', 2.3, 'e']"
            ]
          },
          "metadata": {
            "tags": []
          },
          "execution_count": 10
        }
      ]
    },
    {
      "cell_type": "markdown",
      "metadata": {
        "id": "A8Qp_lpkMuSn",
        "colab_type": "text"
      },
      "source": [
        "A palavra chave **`in`** é usada para verificar se um valor está dentro de um objeto, o que em teoria dos conjuntos é equivalente ao operador **pertence**."
      ]
    },
    {
      "cell_type": "code",
      "metadata": {
        "id": "sPSK_y6lFgl_",
        "colab_type": "code",
        "colab": {
          "base_uri": "https://localhost:8080/",
          "height": 34
        },
        "outputId": "6d3f5b54-b8f5-4951-f5a3-27a13e70926d"
      },
      "source": [
        "1 in [1, 2, 3]"
      ],
      "execution_count": 12,
      "outputs": [
        {
          "output_type": "execute_result",
          "data": {
            "text/plain": [
              "True"
            ]
          },
          "metadata": {
            "tags": []
          },
          "execution_count": 12
        }
      ]
    },
    {
      "cell_type": "code",
      "metadata": {
        "id": "F9NWh-m5NE6i",
        "colab_type": "code",
        "colab": {
          "base_uri": "https://localhost:8080/",
          "height": 34
        },
        "outputId": "9b583f15-6f93-49bf-bf8d-725df494313b"
      },
      "source": [
        "[1, 2] in [1, 2, 3]"
      ],
      "execution_count": 13,
      "outputs": [
        {
          "output_type": "execute_result",
          "data": {
            "text/plain": [
              "False"
            ]
          },
          "metadata": {
            "tags": []
          },
          "execution_count": 13
        }
      ]
    },
    {
      "cell_type": "markdown",
      "metadata": {
        "id": "WGdXTSBWNS5W",
        "colab_type": "text"
      },
      "source": [
        "Strings, por serem listas de caracteres, são indexáveis. O operador slice (**:**), como o próprio nome sugere, extrai subconjuntos de um conjunto indexável, que no caso de uma string é uma substring."
      ]
    },
    {
      "cell_type": "code",
      "metadata": {
        "id": "s9Cmf9-3FgmE",
        "colab_type": "code",
        "colab": {
          "base_uri": "https://localhost:8080/",
          "height": 68
        },
        "outputId": "d8a57bdd-a0c3-4491-c80c-59726da559b4"
      },
      "source": [
        "z = \"This is a string\"\n",
        "print(z[0])\n",
        "print(z[0:1])\n",
        "print(z[0:2])"
      ],
      "execution_count": 14,
      "outputs": [
        {
          "output_type": "stream",
          "text": [
            "T\n",
            "T\n",
            "Th\n"
          ],
          "name": "stdout"
        }
      ]
    },
    {
      "cell_type": "markdown",
      "metadata": {
        "id": "XmQRphJRObnT",
        "colab_type": "text"
      },
      "source": [
        "Em Python, podemos obter elementos de um objeto usando números negativos, com isso o acesso passa a ser da direita para a esquerda. Números negativos também podem ser usados com o operador slice."
      ]
    },
    {
      "cell_type": "code",
      "metadata": {
        "id": "B5_kZS1qFgmH",
        "colab_type": "code",
        "colab": {
          "base_uri": "https://localhost:8080/",
          "height": 35
        },
        "outputId": "970ecc29-a1a3-4bb8-c6a2-66346b366085"
      },
      "source": [
        "z[-1]"
      ],
      "execution_count": 15,
      "outputs": [
        {
          "output_type": "execute_result",
          "data": {
            "application/vnd.google.colaboratory.intrinsic+json": {
              "type": "string"
            },
            "text/plain": [
              "'g'"
            ]
          },
          "metadata": {
            "tags": []
          },
          "execution_count": 15
        }
      ]
    },
    {
      "cell_type": "code",
      "metadata": {
        "id": "_AyxHDI3FgmM",
        "colab_type": "code",
        "colab": {
          "base_uri": "https://localhost:8080/",
          "height": 35
        },
        "outputId": "5f738ae8-b52d-4e52-d016-0eeaf1f766a9"
      },
      "source": [
        "z[-4:-1]"
      ],
      "execution_count": 16,
      "outputs": [
        {
          "output_type": "execute_result",
          "data": {
            "application/vnd.google.colaboratory.intrinsic+json": {
              "type": "string"
            },
            "text/plain": [
              "'rin'"
            ]
          },
          "metadata": {
            "tags": []
          },
          "execution_count": 16
        }
      ]
    },
    {
      "cell_type": "markdown",
      "metadata": {
        "id": "kBQ1z9h1PW8s",
        "colab_type": "text"
      },
      "source": [
        "Podemos também omitir valores no operador slice. Se fizermos isso na esquerda, ele considerará como valor de início como zero, e se for na direita será o tamanho do array - 1."
      ]
    },
    {
      "cell_type": "code",
      "metadata": {
        "id": "UOqRTRDWFgmP",
        "colab_type": "code",
        "colab": {},
        "outputId": "67c2bb24-9f82-4fea-e1d0-70f96628886e"
      },
      "source": [
        "z[:3]"
      ],
      "execution_count": null,
      "outputs": [
        {
          "output_type": "execute_result",
          "data": {
            "text/plain": [
              "'Thi'"
            ]
          },
          "metadata": {
            "tags": []
          },
          "execution_count": 33
        }
      ]
    },
    {
      "cell_type": "code",
      "metadata": {
        "id": "kMsOsLOmFgmT",
        "colab_type": "code",
        "colab": {},
        "outputId": "90faed9e-e014-40ec-b679-043dbadea268"
      },
      "source": [
        "z[3:]"
      ],
      "execution_count": null,
      "outputs": [
        {
          "output_type": "execute_result",
          "data": {
            "text/plain": [
              "'s is a string'"
            ]
          },
          "metadata": {
            "tags": []
          },
          "execution_count": 34
        }
      ]
    },
    {
      "cell_type": "markdown",
      "metadata": {
        "id": "q_aWkRwTP5Gk",
        "colab_type": "text"
      },
      "source": [
        "Como strings representam listas de caracteres, todos os operadores usados para listas também podem ser usados para strings."
      ]
    },
    {
      "cell_type": "code",
      "metadata": {
        "id": "JbTd5_VrFgmX",
        "colab_type": "code",
        "colab": {
          "base_uri": "https://localhost:8080/",
          "height": 68
        },
        "outputId": "5875c711-f25c-491d-d35e-93b27fcd8386"
      },
      "source": [
        "firstname = 'José'\n",
        "lastname = 'Victor'\n",
        "print(firstname + ' ' + lastname)\n",
        "print(firstname * 3)\n",
        "print('Vic' in lastname)"
      ],
      "execution_count": 17,
      "outputs": [
        {
          "output_type": "stream",
          "text": [
            "José Victor\n",
            "JoséJoséJosé\n",
            "True\n"
          ],
          "name": "stdout"
        }
      ]
    },
    {
      "cell_type": "markdown",
      "metadata": {
        "id": "6EAbVLtjQmYC",
        "colab_type": "text"
      },
      "source": [
        "A função split divide uma string em lista de substrings utilizando um separador como parâmetro, que por padrão é espaço."
      ]
    },
    {
      "cell_type": "code",
      "metadata": {
        "id": "XXskoR3nFgmb",
        "colab_type": "code",
        "colab": {
          "base_uri": "https://localhost:8080/",
          "height": 51
        },
        "outputId": "0c0f3872-e6fa-4399-ff8a-fcfcfc8ad2d7"
      },
      "source": [
        "firstword = 'José Victor is using a Jupiter Notebook'.split(' ')[0]\n",
        "lastword = 'José Victor is using a Jupiter Notebook'.split(' ')[-1]\n",
        "print(firstword)\n",
        "print(lastword)"
      ],
      "execution_count": 21,
      "outputs": [
        {
          "output_type": "stream",
          "text": [
            "José\n",
            "Notebook\n"
          ],
          "name": "stdout"
        }
      ]
    },
    {
      "cell_type": "markdown",
      "metadata": {
        "id": "aWkPczL-RIxi",
        "colab_type": "text"
      },
      "source": [
        "Além do separador, split possui o parâmetro **maxsplit** que determina a quantidade máxima de divisões a serem implementadas."
      ]
    },
    {
      "cell_type": "code",
      "metadata": {
        "id": "N9wNYySKRyK5",
        "colab_type": "code",
        "colab": {
          "base_uri": "https://localhost:8080/",
          "height": 34
        },
        "outputId": "514a62a6-580d-49e8-c638-ce1c13c7108e"
      },
      "source": [
        "'José Victor is using a Jupiter Notebook'.split(maxsplit=2)"
      ],
      "execution_count": 22,
      "outputs": [
        {
          "output_type": "execute_result",
          "data": {
            "text/plain": [
              "['José', 'Victor', 'is using a Jupiter Notebook']"
            ]
          },
          "metadata": {
            "tags": []
          },
          "execution_count": 22
        }
      ]
    },
    {
      "cell_type": "markdown",
      "metadata": {
        "id": "piOjCkHqSQzE",
        "colab_type": "text"
      },
      "source": [
        "Dicionários são estruturas de dados nas quais cada **valor** é indexado por uma **chave** que pode ser de qualquer tipo. Seus valores podem ser acessados por suas chaves."
      ]
    },
    {
      "cell_type": "code",
      "metadata": {
        "id": "xt1lc5H9Fgmf",
        "colab_type": "code",
        "colab": {
          "base_uri": "https://localhost:8080/",
          "height": 34
        },
        "outputId": "0b6acf28-80ca-4759-c1cb-a0263f33cffc"
      },
      "source": [
        "x = {'Cristopher Brooks' : 'brooksch@umich.edu', 'Bill Gates' : 'billg@microsoft.com'}\n",
        "print(x['Cristopher Brooks'])"
      ],
      "execution_count": 27,
      "outputs": [
        {
          "output_type": "stream",
          "text": [
            "brooksch@umich.edu\n"
          ],
          "name": "stdout"
        }
      ]
    },
    {
      "cell_type": "markdown",
      "metadata": {
        "id": "kVkxHRdpSsbF",
        "colab_type": "text"
      },
      "source": [
        "Para inserir um novo valor para um dicionário, basta usar o operador de indexação **[ ]** com a nova chave e o operador de atribuição **=** para inserir o novo valor."
      ]
    },
    {
      "cell_type": "code",
      "metadata": {
        "id": "2o1sHVw0Fgmk",
        "colab_type": "code",
        "colab": {
          "base_uri": "https://localhost:8080/",
          "height": 34
        },
        "outputId": "0e0c0c20-0efb-4a64-b960-6ae4e9371cc2"
      },
      "source": [
        "x['Maria Medeiros'] = None\n",
        "x['Maria Medeiros'] = 'mmariammedeiros@yahoo.com.br'\n",
        "print(x['Maria Medeiros'])"
      ],
      "execution_count": 28,
      "outputs": [
        {
          "output_type": "stream",
          "text": [
            "mmariammedeiros@yahoo.com.br\n"
          ],
          "name": "stdout"
        }
      ]
    },
    {
      "cell_type": "markdown",
      "metadata": {
        "id": "X7ZXWkRaYfem",
        "colab_type": "text"
      },
      "source": [
        "Dicionários também são objetos iteráveis, podendo iterar através das chaves, dos valores usando a função **`.values`** ou de ambos usando a função **`.items`**."
      ]
    },
    {
      "cell_type": "code",
      "metadata": {
        "id": "aIBo1StOFgmo",
        "colab_type": "code",
        "colab": {
          "base_uri": "https://localhost:8080/",
          "height": 68
        },
        "outputId": "5e119343-635a-4d75-f484-0f8c2a08f2da"
      },
      "source": [
        "for name in x:\n",
        "    print(x[name])"
      ],
      "execution_count": 29,
      "outputs": [
        {
          "output_type": "stream",
          "text": [
            "brooksch@umich.edu\n",
            "billg@microsoft.com\n",
            "mmariammedeiros@yahoo.com.br\n"
          ],
          "name": "stdout"
        }
      ]
    },
    {
      "cell_type": "code",
      "metadata": {
        "id": "lshR_p0MFgms",
        "colab_type": "code",
        "colab": {
          "base_uri": "https://localhost:8080/",
          "height": 68
        },
        "outputId": "7545a77d-4265-44fc-9acb-4e12e2f27d61"
      },
      "source": [
        "for email in x.values():\n",
        "    print(email)"
      ],
      "execution_count": 30,
      "outputs": [
        {
          "output_type": "stream",
          "text": [
            "brooksch@umich.edu\n",
            "billg@microsoft.com\n",
            "mmariammedeiros@yahoo.com.br\n"
          ],
          "name": "stdout"
        }
      ]
    },
    {
      "cell_type": "code",
      "metadata": {
        "id": "ska0nS1VFgmw",
        "colab_type": "code",
        "colab": {
          "base_uri": "https://localhost:8080/",
          "height": 68
        },
        "outputId": "56b764f6-8c45-4408-c2db-f8b196cee7da"
      },
      "source": [
        "for name, email in x.items():\n",
        "    print(name + ' - ' + email)"
      ],
      "execution_count": 31,
      "outputs": [
        {
          "output_type": "stream",
          "text": [
            "Cristopher Brooks - brooksch@umich.edu\n",
            "Bill Gates - billg@microsoft.com\n",
            "Maria Medeiros - mmariammedeiros@yahoo.com.br\n"
          ],
          "name": "stdout"
        }
      ]
    },
    {
      "cell_type": "markdown",
      "metadata": {
        "id": "ExUWH4vtZku7",
        "colab_type": "text"
      },
      "source": [
        "O operador de atribuição também pode ser usado para atribuir os valores de um array para diferentes variáveis."
      ]
    },
    {
      "cell_type": "code",
      "metadata": {
        "id": "qx3Dd6HXFgm2",
        "colab_type": "code",
        "colab": {
          "base_uri": "https://localhost:8080/",
          "height": 51
        },
        "outputId": "88030cc0-2be9-4a58-be02-87df4eabf66c"
      },
      "source": [
        "x = ['José', 'Victor', 'josevictor@dcc.ufrj.br']\n",
        "firstname, lastname, email = x\n",
        "print(firstname)\n",
        "print(email)"
      ],
      "execution_count": 35,
      "outputs": [
        {
          "output_type": "stream",
          "text": [
            "José\n",
            "josevictor@dcc.ufrj.br\n"
          ],
          "name": "stdout"
        }
      ]
    },
    {
      "cell_type": "markdown",
      "metadata": {
        "id": "JFWs73cUZw5_",
        "colab_type": "text"
      },
      "source": [
        "No entanto, a quantidade de variáveis a receber o valor deve ser a mesma do tamanho do array. Caso contrário, disparará um ValueError."
      ]
    },
    {
      "cell_type": "code",
      "metadata": {
        "id": "iQBViS1cFgnD",
        "colab_type": "code",
        "colab": {},
        "outputId": "dedb3299-37ff-43a1-f406-4f6401a232b8"
      },
      "source": [
        "x = ['José', 'Victor', 'josevictor@dcc.ufrj.br', '+55 (21) 99779-2091']\n",
        "firstname, lastname, email = x"
      ],
      "execution_count": null,
      "outputs": [
        {
          "output_type": "error",
          "ename": "ValueError",
          "evalue": "too many values to unpack (expected 3)",
          "traceback": [
            "\u001b[0;31m---------------------------------------------------------------------------\u001b[0m",
            "\u001b[0;31mValueError\u001b[0m                                Traceback (most recent call last)",
            "\u001b[0;32m<ipython-input-21-6985e6010ae9>\u001b[0m in \u001b[0;36m<module>\u001b[0;34m()\u001b[0m\n\u001b[1;32m      1\u001b[0m \u001b[0mx\u001b[0m \u001b[0;34m=\u001b[0m \u001b[0;34m[\u001b[0m\u001b[0;34m'José'\u001b[0m\u001b[0;34m,\u001b[0m \u001b[0;34m'Victor'\u001b[0m\u001b[0;34m,\u001b[0m \u001b[0;34m'josevictor@dcc.ufrj.br'\u001b[0m\u001b[0;34m,\u001b[0m \u001b[0;34m'+55 (21) 99779-2091'\u001b[0m\u001b[0;34m]\u001b[0m\u001b[0;34m\u001b[0m\u001b[0m\n\u001b[0;32m----> 2\u001b[0;31m \u001b[0mfirstname\u001b[0m\u001b[0;34m,\u001b[0m \u001b[0mlastname\u001b[0m\u001b[0;34m,\u001b[0m \u001b[0memail\u001b[0m \u001b[0;34m=\u001b[0m \u001b[0mx\u001b[0m\u001b[0;34m\u001b[0m\u001b[0m\n\u001b[0m",
            "\u001b[0;31mValueError\u001b[0m: too many values to unpack (expected 3)"
          ]
        }
      ]
    },
    {
      "cell_type": "markdown",
      "metadata": {
        "id": "OXrXWEgwaDPf",
        "colab_type": "text"
      },
      "source": [
        "Ao usar o operador **+** para concatenar uma string com um número, esse número precisa ser convertido para string primeiro."
      ]
    },
    {
      "cell_type": "code",
      "metadata": {
        "id": "GJFA39TsFgnH",
        "colab_type": "code",
        "colab": {
          "base_uri": "https://localhost:8080/",
          "height": 34
        },
        "outputId": "952bec5e-a769-48bd-f691-66e35811f1cb"
      },
      "source": [
        "print('Number ' + str(2))"
      ],
      "execution_count": 36,
      "outputs": [
        {
          "output_type": "stream",
          "text": [
            "Number 2\n"
          ],
          "name": "stdout"
        }
      ]
    },
    {
      "cell_type": "markdown",
      "metadata": {
        "id": "a5v7ZbpHaraX",
        "colab_type": "text"
      },
      "source": [
        "Entretanto, há uma forma mais eficiente e organizada de inserir números em uma string, que é usando a função **.format** junto com **{}** na string nos locais onde entrarão os valores."
      ]
    },
    {
      "cell_type": "code",
      "metadata": {
        "id": "ZIJ3MA5eFgnL",
        "colab_type": "code",
        "colab": {},
        "outputId": "13612a10-028a-4421-ad6b-2889f005a63c"
      },
      "source": [
        "sales_record = {'price' : 3.24,\n",
        "               'num_items' : 4,\n",
        "               'person' : 'Chris'}\n",
        "\n",
        "sales_statement = '{} bought {} item(s) at a price of {} each for a total of {}'\n",
        "print(sales_statement.format(sales_record['person'],\n",
        "                            sales_record['num_items'],\n",
        "                            sales_record['price'],\n",
        "                            sales_record['price'] * sales_record['num_items']))"
      ],
      "execution_count": null,
      "outputs": [
        {
          "output_type": "stream",
          "text": [
            "Chris bought 4 item(s) at a price of 3.24 each for a total of 12.96\n"
          ],
          "name": "stdout"
        }
      ]
    },
    {
      "cell_type": "markdown",
      "metadata": {
        "collapsed": true,
        "id": "-GeyrABtFgnQ",
        "colab_type": "text"
      },
      "source": [
        "# The Python Programming Language: Dates and Times"
      ]
    },
    {
      "cell_type": "code",
      "metadata": {
        "id": "Hd294-zpFgnR",
        "colab_type": "code",
        "colab": {}
      },
      "source": [
        "import datetime as dt\n",
        "import time as tm"
      ],
      "execution_count": null,
      "outputs": []
    },
    {
      "cell_type": "code",
      "metadata": {
        "id": "-e0F9QImFgnV",
        "colab_type": "code",
        "colab": {},
        "outputId": "f679ed89-0a4f-4916-eae7-68150103a7dd"
      },
      "source": [
        "tm.time()"
      ],
      "execution_count": null,
      "outputs": [
        {
          "output_type": "execute_result",
          "data": {
            "text/plain": [
              "1594163933.5358355"
            ]
          },
          "metadata": {
            "tags": []
          },
          "execution_count": 2
        }
      ]
    },
    {
      "cell_type": "code",
      "metadata": {
        "id": "wvugetIKFgnY",
        "colab_type": "code",
        "colab": {},
        "outputId": "788e1006-5fcd-4669-b466-c6cbcb378a11"
      },
      "source": [
        "dt_now = dt.datetime.fromtimestamp(tm.time())\n",
        "dt_now"
      ],
      "execution_count": null,
      "outputs": [
        {
          "output_type": "execute_result",
          "data": {
            "text/plain": [
              "datetime.datetime(2020, 7, 7, 23, 18, 54, 695502)"
            ]
          },
          "metadata": {
            "tags": []
          },
          "execution_count": 3
        }
      ]
    },
    {
      "cell_type": "code",
      "metadata": {
        "id": "JKwxihr9Fgnc",
        "colab_type": "code",
        "colab": {},
        "outputId": "b1e2a95c-804e-46cf-ba7d-245aba0aedef"
      },
      "source": [
        "dt_now.year, dt_now.month, dt_now.day, dt_now.hour, dt_now.minute, dt_now.second"
      ],
      "execution_count": null,
      "outputs": [
        {
          "output_type": "execute_result",
          "data": {
            "text/plain": [
              "(2020, 7, 7, 23, 18, 54)"
            ]
          },
          "metadata": {
            "tags": []
          },
          "execution_count": 4
        }
      ]
    },
    {
      "cell_type": "code",
      "metadata": {
        "id": "m7wviNHCFgnj",
        "colab_type": "code",
        "colab": {},
        "outputId": "ee90dd2b-3fce-468f-ef05-e8facadbc6ad"
      },
      "source": [
        "delta = dt.timedelta(days = 100) # Intervalo de tempo de 100 dias.\n",
        "delta"
      ],
      "execution_count": null,
      "outputs": [
        {
          "output_type": "execute_result",
          "data": {
            "text/plain": [
              "datetime.timedelta(100)"
            ]
          },
          "metadata": {
            "tags": []
          },
          "execution_count": 5
        }
      ]
    },
    {
      "cell_type": "code",
      "metadata": {
        "id": "rSqGo3wJFgnq",
        "colab_type": "code",
        "colab": {}
      },
      "source": [
        "today = dt.date.today()"
      ],
      "execution_count": null,
      "outputs": []
    },
    {
      "cell_type": "code",
      "metadata": {
        "id": "1nURPhLEFgnw",
        "colab_type": "code",
        "colab": {},
        "outputId": "07d8b683-438c-4737-9621-8585751bb023"
      },
      "source": [
        "today - delta # Acha a data de 100 dias atrás"
      ],
      "execution_count": null,
      "outputs": [
        {
          "output_type": "execute_result",
          "data": {
            "text/plain": [
              "datetime.date(2020, 3, 29)"
            ]
          },
          "metadata": {
            "tags": []
          },
          "execution_count": 7
        }
      ]
    },
    {
      "cell_type": "code",
      "metadata": {
        "id": "FznR3aUlFgn2",
        "colab_type": "code",
        "colab": {},
        "outputId": "5ddc1b15-3332-4464-8f3b-d9527445934b"
      },
      "source": [
        "today > today - delta"
      ],
      "execution_count": null,
      "outputs": [
        {
          "output_type": "execute_result",
          "data": {
            "text/plain": [
              "True"
            ]
          },
          "metadata": {
            "tags": []
          },
          "execution_count": 8
        }
      ]
    },
    {
      "cell_type": "markdown",
      "metadata": {
        "collapsed": true,
        "id": "7HT1LkMhFgn6",
        "colab_type": "text"
      },
      "source": [
        "# The Python Programming Language: Objects and map()"
      ]
    },
    {
      "cell_type": "code",
      "metadata": {
        "id": "tzfaCcrLFgn7",
        "colab_type": "code",
        "colab": {}
      },
      "source": [
        "class Person:\n",
        "    ''' An example of class in Python. '''\n",
        "\n",
        "    department = 'School of information'\n",
        "    \n",
        "    def set_name(self, new_name):\n",
        "        self.name = new_name\n",
        "    def set_location(self, new_location):\n",
        "        self.location = new_location"
      ],
      "execution_count": null,
      "outputs": []
    },
    {
      "cell_type": "code",
      "metadata": {
        "id": "cQCuc43tFgoC",
        "colab_type": "code",
        "colab": {},
        "outputId": "4241f60a-dedc-4ab9-cf5c-d1daf1150ab0"
      },
      "source": [
        "store_1 = [10.00, 11.00, 12.34, 2.34]\n",
        "store_2 = [9.00, 11.10, 12.34, 2.01]\n",
        "cheapest = map(min, store_1, store_2)\n",
        "cheapest"
      ],
      "execution_count": null,
      "outputs": [
        {
          "output_type": "execute_result",
          "data": {
            "text/plain": [
              "<map at 0x7efeb3fee048>"
            ]
          },
          "metadata": {
            "tags": []
          },
          "execution_count": 2
        }
      ]
    },
    {
      "cell_type": "code",
      "metadata": {
        "id": "7TtB21JUFgoH",
        "colab_type": "code",
        "colab": {},
        "outputId": "e02e3c5d-8f5e-44e7-b225-150305edf2e9"
      },
      "source": [
        "for item in cheapest:\n",
        "    print(item)"
      ],
      "execution_count": null,
      "outputs": [
        {
          "output_type": "stream",
          "text": [
            "9.0\n",
            "11.0\n",
            "12.34\n",
            "2.01\n"
          ],
          "name": "stdout"
        }
      ]
    },
    {
      "cell_type": "markdown",
      "metadata": {
        "id": "lAmczlr6FgoL",
        "colab_type": "text"
      },
      "source": [
        "# The Python Programming Language: Lambda and List Comprehensions"
      ]
    },
    {
      "cell_type": "code",
      "metadata": {
        "id": "xVbCSYnSFgoL",
        "colab_type": "code",
        "colab": {}
      },
      "source": [
        "my_function = lambda a, b, c : a + b"
      ],
      "execution_count": null,
      "outputs": []
    },
    {
      "cell_type": "code",
      "metadata": {
        "id": "WNpjAMMgFgoP",
        "colab_type": "code",
        "colab": {},
        "outputId": "dcf09838-b033-4b06-9706-028c75a5a4ec"
      },
      "source": [
        "my_function(1, 2, 3)"
      ],
      "execution_count": null,
      "outputs": [
        {
          "output_type": "execute_result",
          "data": {
            "text/plain": [
              "3"
            ]
          },
          "metadata": {
            "tags": []
          },
          "execution_count": 5
        }
      ]
    },
    {
      "cell_type": "code",
      "metadata": {
        "id": "krHlrbCXFgoV",
        "colab_type": "code",
        "colab": {},
        "outputId": "d074e7cd-47b8-4b60-b3f7-7789f169c44c"
      },
      "source": [
        "my_list = []\n",
        "for number in range(0, 1000):\n",
        "    if number % 2 == 0:\n",
        "        my_list.append(number)\n",
        "\n",
        "my_list"
      ],
      "execution_count": null,
      "outputs": [
        {
          "output_type": "execute_result",
          "data": {
            "text/plain": [
              "[0,\n",
              " 2,\n",
              " 4,\n",
              " 6,\n",
              " 8,\n",
              " 10,\n",
              " 12,\n",
              " 14,\n",
              " 16,\n",
              " 18,\n",
              " 20,\n",
              " 22,\n",
              " 24,\n",
              " 26,\n",
              " 28,\n",
              " 30,\n",
              " 32,\n",
              " 34,\n",
              " 36,\n",
              " 38,\n",
              " 40,\n",
              " 42,\n",
              " 44,\n",
              " 46,\n",
              " 48,\n",
              " 50,\n",
              " 52,\n",
              " 54,\n",
              " 56,\n",
              " 58,\n",
              " 60,\n",
              " 62,\n",
              " 64,\n",
              " 66,\n",
              " 68,\n",
              " 70,\n",
              " 72,\n",
              " 74,\n",
              " 76,\n",
              " 78,\n",
              " 80,\n",
              " 82,\n",
              " 84,\n",
              " 86,\n",
              " 88,\n",
              " 90,\n",
              " 92,\n",
              " 94,\n",
              " 96,\n",
              " 98,\n",
              " 100,\n",
              " 102,\n",
              " 104,\n",
              " 106,\n",
              " 108,\n",
              " 110,\n",
              " 112,\n",
              " 114,\n",
              " 116,\n",
              " 118,\n",
              " 120,\n",
              " 122,\n",
              " 124,\n",
              " 126,\n",
              " 128,\n",
              " 130,\n",
              " 132,\n",
              " 134,\n",
              " 136,\n",
              " 138,\n",
              " 140,\n",
              " 142,\n",
              " 144,\n",
              " 146,\n",
              " 148,\n",
              " 150,\n",
              " 152,\n",
              " 154,\n",
              " 156,\n",
              " 158,\n",
              " 160,\n",
              " 162,\n",
              " 164,\n",
              " 166,\n",
              " 168,\n",
              " 170,\n",
              " 172,\n",
              " 174,\n",
              " 176,\n",
              " 178,\n",
              " 180,\n",
              " 182,\n",
              " 184,\n",
              " 186,\n",
              " 188,\n",
              " 190,\n",
              " 192,\n",
              " 194,\n",
              " 196,\n",
              " 198,\n",
              " 200,\n",
              " 202,\n",
              " 204,\n",
              " 206,\n",
              " 208,\n",
              " 210,\n",
              " 212,\n",
              " 214,\n",
              " 216,\n",
              " 218,\n",
              " 220,\n",
              " 222,\n",
              " 224,\n",
              " 226,\n",
              " 228,\n",
              " 230,\n",
              " 232,\n",
              " 234,\n",
              " 236,\n",
              " 238,\n",
              " 240,\n",
              " 242,\n",
              " 244,\n",
              " 246,\n",
              " 248,\n",
              " 250,\n",
              " 252,\n",
              " 254,\n",
              " 256,\n",
              " 258,\n",
              " 260,\n",
              " 262,\n",
              " 264,\n",
              " 266,\n",
              " 268,\n",
              " 270,\n",
              " 272,\n",
              " 274,\n",
              " 276,\n",
              " 278,\n",
              " 280,\n",
              " 282,\n",
              " 284,\n",
              " 286,\n",
              " 288,\n",
              " 290,\n",
              " 292,\n",
              " 294,\n",
              " 296,\n",
              " 298,\n",
              " 300,\n",
              " 302,\n",
              " 304,\n",
              " 306,\n",
              " 308,\n",
              " 310,\n",
              " 312,\n",
              " 314,\n",
              " 316,\n",
              " 318,\n",
              " 320,\n",
              " 322,\n",
              " 324,\n",
              " 326,\n",
              " 328,\n",
              " 330,\n",
              " 332,\n",
              " 334,\n",
              " 336,\n",
              " 338,\n",
              " 340,\n",
              " 342,\n",
              " 344,\n",
              " 346,\n",
              " 348,\n",
              " 350,\n",
              " 352,\n",
              " 354,\n",
              " 356,\n",
              " 358,\n",
              " 360,\n",
              " 362,\n",
              " 364,\n",
              " 366,\n",
              " 368,\n",
              " 370,\n",
              " 372,\n",
              " 374,\n",
              " 376,\n",
              " 378,\n",
              " 380,\n",
              " 382,\n",
              " 384,\n",
              " 386,\n",
              " 388,\n",
              " 390,\n",
              " 392,\n",
              " 394,\n",
              " 396,\n",
              " 398,\n",
              " 400,\n",
              " 402,\n",
              " 404,\n",
              " 406,\n",
              " 408,\n",
              " 410,\n",
              " 412,\n",
              " 414,\n",
              " 416,\n",
              " 418,\n",
              " 420,\n",
              " 422,\n",
              " 424,\n",
              " 426,\n",
              " 428,\n",
              " 430,\n",
              " 432,\n",
              " 434,\n",
              " 436,\n",
              " 438,\n",
              " 440,\n",
              " 442,\n",
              " 444,\n",
              " 446,\n",
              " 448,\n",
              " 450,\n",
              " 452,\n",
              " 454,\n",
              " 456,\n",
              " 458,\n",
              " 460,\n",
              " 462,\n",
              " 464,\n",
              " 466,\n",
              " 468,\n",
              " 470,\n",
              " 472,\n",
              " 474,\n",
              " 476,\n",
              " 478,\n",
              " 480,\n",
              " 482,\n",
              " 484,\n",
              " 486,\n",
              " 488,\n",
              " 490,\n",
              " 492,\n",
              " 494,\n",
              " 496,\n",
              " 498,\n",
              " 500,\n",
              " 502,\n",
              " 504,\n",
              " 506,\n",
              " 508,\n",
              " 510,\n",
              " 512,\n",
              " 514,\n",
              " 516,\n",
              " 518,\n",
              " 520,\n",
              " 522,\n",
              " 524,\n",
              " 526,\n",
              " 528,\n",
              " 530,\n",
              " 532,\n",
              " 534,\n",
              " 536,\n",
              " 538,\n",
              " 540,\n",
              " 542,\n",
              " 544,\n",
              " 546,\n",
              " 548,\n",
              " 550,\n",
              " 552,\n",
              " 554,\n",
              " 556,\n",
              " 558,\n",
              " 560,\n",
              " 562,\n",
              " 564,\n",
              " 566,\n",
              " 568,\n",
              " 570,\n",
              " 572,\n",
              " 574,\n",
              " 576,\n",
              " 578,\n",
              " 580,\n",
              " 582,\n",
              " 584,\n",
              " 586,\n",
              " 588,\n",
              " 590,\n",
              " 592,\n",
              " 594,\n",
              " 596,\n",
              " 598,\n",
              " 600,\n",
              " 602,\n",
              " 604,\n",
              " 606,\n",
              " 608,\n",
              " 610,\n",
              " 612,\n",
              " 614,\n",
              " 616,\n",
              " 618,\n",
              " 620,\n",
              " 622,\n",
              " 624,\n",
              " 626,\n",
              " 628,\n",
              " 630,\n",
              " 632,\n",
              " 634,\n",
              " 636,\n",
              " 638,\n",
              " 640,\n",
              " 642,\n",
              " 644,\n",
              " 646,\n",
              " 648,\n",
              " 650,\n",
              " 652,\n",
              " 654,\n",
              " 656,\n",
              " 658,\n",
              " 660,\n",
              " 662,\n",
              " 664,\n",
              " 666,\n",
              " 668,\n",
              " 670,\n",
              " 672,\n",
              " 674,\n",
              " 676,\n",
              " 678,\n",
              " 680,\n",
              " 682,\n",
              " 684,\n",
              " 686,\n",
              " 688,\n",
              " 690,\n",
              " 692,\n",
              " 694,\n",
              " 696,\n",
              " 698,\n",
              " 700,\n",
              " 702,\n",
              " 704,\n",
              " 706,\n",
              " 708,\n",
              " 710,\n",
              " 712,\n",
              " 714,\n",
              " 716,\n",
              " 718,\n",
              " 720,\n",
              " 722,\n",
              " 724,\n",
              " 726,\n",
              " 728,\n",
              " 730,\n",
              " 732,\n",
              " 734,\n",
              " 736,\n",
              " 738,\n",
              " 740,\n",
              " 742,\n",
              " 744,\n",
              " 746,\n",
              " 748,\n",
              " 750,\n",
              " 752,\n",
              " 754,\n",
              " 756,\n",
              " 758,\n",
              " 760,\n",
              " 762,\n",
              " 764,\n",
              " 766,\n",
              " 768,\n",
              " 770,\n",
              " 772,\n",
              " 774,\n",
              " 776,\n",
              " 778,\n",
              " 780,\n",
              " 782,\n",
              " 784,\n",
              " 786,\n",
              " 788,\n",
              " 790,\n",
              " 792,\n",
              " 794,\n",
              " 796,\n",
              " 798,\n",
              " 800,\n",
              " 802,\n",
              " 804,\n",
              " 806,\n",
              " 808,\n",
              " 810,\n",
              " 812,\n",
              " 814,\n",
              " 816,\n",
              " 818,\n",
              " 820,\n",
              " 822,\n",
              " 824,\n",
              " 826,\n",
              " 828,\n",
              " 830,\n",
              " 832,\n",
              " 834,\n",
              " 836,\n",
              " 838,\n",
              " 840,\n",
              " 842,\n",
              " 844,\n",
              " 846,\n",
              " 848,\n",
              " 850,\n",
              " 852,\n",
              " 854,\n",
              " 856,\n",
              " 858,\n",
              " 860,\n",
              " 862,\n",
              " 864,\n",
              " 866,\n",
              " 868,\n",
              " 870,\n",
              " 872,\n",
              " 874,\n",
              " 876,\n",
              " 878,\n",
              " 880,\n",
              " 882,\n",
              " 884,\n",
              " 886,\n",
              " 888,\n",
              " 890,\n",
              " 892,\n",
              " 894,\n",
              " 896,\n",
              " 898,\n",
              " 900,\n",
              " 902,\n",
              " 904,\n",
              " 906,\n",
              " 908,\n",
              " 910,\n",
              " 912,\n",
              " 914,\n",
              " 916,\n",
              " 918,\n",
              " 920,\n",
              " 922,\n",
              " 924,\n",
              " 926,\n",
              " 928,\n",
              " 930,\n",
              " 932,\n",
              " 934,\n",
              " 936,\n",
              " 938,\n",
              " 940,\n",
              " 942,\n",
              " 944,\n",
              " 946,\n",
              " 948,\n",
              " 950,\n",
              " 952,\n",
              " 954,\n",
              " 956,\n",
              " 958,\n",
              " 960,\n",
              " 962,\n",
              " 964,\n",
              " 966,\n",
              " 968,\n",
              " 970,\n",
              " 972,\n",
              " 974,\n",
              " 976,\n",
              " 978,\n",
              " 980,\n",
              " 982,\n",
              " 984,\n",
              " 986,\n",
              " 988,\n",
              " 990,\n",
              " 992,\n",
              " 994,\n",
              " 996,\n",
              " 998]"
            ]
          },
          "metadata": {
            "tags": []
          },
          "execution_count": 6
        }
      ]
    },
    {
      "cell_type": "code",
      "metadata": {
        "id": "ARCNasJmFgoa",
        "colab_type": "code",
        "colab": {},
        "outputId": "59f9aaa8-ff95-470c-e2a6-d37a4d94ae1a"
      },
      "source": [
        "my_list = [number for number in range(0, 1000) if number % 2 == 0]\n",
        "my_list"
      ],
      "execution_count": null,
      "outputs": [
        {
          "output_type": "execute_result",
          "data": {
            "text/plain": [
              "[0,\n",
              " 2,\n",
              " 4,\n",
              " 6,\n",
              " 8,\n",
              " 10,\n",
              " 12,\n",
              " 14,\n",
              " 16,\n",
              " 18,\n",
              " 20,\n",
              " 22,\n",
              " 24,\n",
              " 26,\n",
              " 28,\n",
              " 30,\n",
              " 32,\n",
              " 34,\n",
              " 36,\n",
              " 38,\n",
              " 40,\n",
              " 42,\n",
              " 44,\n",
              " 46,\n",
              " 48,\n",
              " 50,\n",
              " 52,\n",
              " 54,\n",
              " 56,\n",
              " 58,\n",
              " 60,\n",
              " 62,\n",
              " 64,\n",
              " 66,\n",
              " 68,\n",
              " 70,\n",
              " 72,\n",
              " 74,\n",
              " 76,\n",
              " 78,\n",
              " 80,\n",
              " 82,\n",
              " 84,\n",
              " 86,\n",
              " 88,\n",
              " 90,\n",
              " 92,\n",
              " 94,\n",
              " 96,\n",
              " 98,\n",
              " 100,\n",
              " 102,\n",
              " 104,\n",
              " 106,\n",
              " 108,\n",
              " 110,\n",
              " 112,\n",
              " 114,\n",
              " 116,\n",
              " 118,\n",
              " 120,\n",
              " 122,\n",
              " 124,\n",
              " 126,\n",
              " 128,\n",
              " 130,\n",
              " 132,\n",
              " 134,\n",
              " 136,\n",
              " 138,\n",
              " 140,\n",
              " 142,\n",
              " 144,\n",
              " 146,\n",
              " 148,\n",
              " 150,\n",
              " 152,\n",
              " 154,\n",
              " 156,\n",
              " 158,\n",
              " 160,\n",
              " 162,\n",
              " 164,\n",
              " 166,\n",
              " 168,\n",
              " 170,\n",
              " 172,\n",
              " 174,\n",
              " 176,\n",
              " 178,\n",
              " 180,\n",
              " 182,\n",
              " 184,\n",
              " 186,\n",
              " 188,\n",
              " 190,\n",
              " 192,\n",
              " 194,\n",
              " 196,\n",
              " 198,\n",
              " 200,\n",
              " 202,\n",
              " 204,\n",
              " 206,\n",
              " 208,\n",
              " 210,\n",
              " 212,\n",
              " 214,\n",
              " 216,\n",
              " 218,\n",
              " 220,\n",
              " 222,\n",
              " 224,\n",
              " 226,\n",
              " 228,\n",
              " 230,\n",
              " 232,\n",
              " 234,\n",
              " 236,\n",
              " 238,\n",
              " 240,\n",
              " 242,\n",
              " 244,\n",
              " 246,\n",
              " 248,\n",
              " 250,\n",
              " 252,\n",
              " 254,\n",
              " 256,\n",
              " 258,\n",
              " 260,\n",
              " 262,\n",
              " 264,\n",
              " 266,\n",
              " 268,\n",
              " 270,\n",
              " 272,\n",
              " 274,\n",
              " 276,\n",
              " 278,\n",
              " 280,\n",
              " 282,\n",
              " 284,\n",
              " 286,\n",
              " 288,\n",
              " 290,\n",
              " 292,\n",
              " 294,\n",
              " 296,\n",
              " 298,\n",
              " 300,\n",
              " 302,\n",
              " 304,\n",
              " 306,\n",
              " 308,\n",
              " 310,\n",
              " 312,\n",
              " 314,\n",
              " 316,\n",
              " 318,\n",
              " 320,\n",
              " 322,\n",
              " 324,\n",
              " 326,\n",
              " 328,\n",
              " 330,\n",
              " 332,\n",
              " 334,\n",
              " 336,\n",
              " 338,\n",
              " 340,\n",
              " 342,\n",
              " 344,\n",
              " 346,\n",
              " 348,\n",
              " 350,\n",
              " 352,\n",
              " 354,\n",
              " 356,\n",
              " 358,\n",
              " 360,\n",
              " 362,\n",
              " 364,\n",
              " 366,\n",
              " 368,\n",
              " 370,\n",
              " 372,\n",
              " 374,\n",
              " 376,\n",
              " 378,\n",
              " 380,\n",
              " 382,\n",
              " 384,\n",
              " 386,\n",
              " 388,\n",
              " 390,\n",
              " 392,\n",
              " 394,\n",
              " 396,\n",
              " 398,\n",
              " 400,\n",
              " 402,\n",
              " 404,\n",
              " 406,\n",
              " 408,\n",
              " 410,\n",
              " 412,\n",
              " 414,\n",
              " 416,\n",
              " 418,\n",
              " 420,\n",
              " 422,\n",
              " 424,\n",
              " 426,\n",
              " 428,\n",
              " 430,\n",
              " 432,\n",
              " 434,\n",
              " 436,\n",
              " 438,\n",
              " 440,\n",
              " 442,\n",
              " 444,\n",
              " 446,\n",
              " 448,\n",
              " 450,\n",
              " 452,\n",
              " 454,\n",
              " 456,\n",
              " 458,\n",
              " 460,\n",
              " 462,\n",
              " 464,\n",
              " 466,\n",
              " 468,\n",
              " 470,\n",
              " 472,\n",
              " 474,\n",
              " 476,\n",
              " 478,\n",
              " 480,\n",
              " 482,\n",
              " 484,\n",
              " 486,\n",
              " 488,\n",
              " 490,\n",
              " 492,\n",
              " 494,\n",
              " 496,\n",
              " 498,\n",
              " 500,\n",
              " 502,\n",
              " 504,\n",
              " 506,\n",
              " 508,\n",
              " 510,\n",
              " 512,\n",
              " 514,\n",
              " 516,\n",
              " 518,\n",
              " 520,\n",
              " 522,\n",
              " 524,\n",
              " 526,\n",
              " 528,\n",
              " 530,\n",
              " 532,\n",
              " 534,\n",
              " 536,\n",
              " 538,\n",
              " 540,\n",
              " 542,\n",
              " 544,\n",
              " 546,\n",
              " 548,\n",
              " 550,\n",
              " 552,\n",
              " 554,\n",
              " 556,\n",
              " 558,\n",
              " 560,\n",
              " 562,\n",
              " 564,\n",
              " 566,\n",
              " 568,\n",
              " 570,\n",
              " 572,\n",
              " 574,\n",
              " 576,\n",
              " 578,\n",
              " 580,\n",
              " 582,\n",
              " 584,\n",
              " 586,\n",
              " 588,\n",
              " 590,\n",
              " 592,\n",
              " 594,\n",
              " 596,\n",
              " 598,\n",
              " 600,\n",
              " 602,\n",
              " 604,\n",
              " 606,\n",
              " 608,\n",
              " 610,\n",
              " 612,\n",
              " 614,\n",
              " 616,\n",
              " 618,\n",
              " 620,\n",
              " 622,\n",
              " 624,\n",
              " 626,\n",
              " 628,\n",
              " 630,\n",
              " 632,\n",
              " 634,\n",
              " 636,\n",
              " 638,\n",
              " 640,\n",
              " 642,\n",
              " 644,\n",
              " 646,\n",
              " 648,\n",
              " 650,\n",
              " 652,\n",
              " 654,\n",
              " 656,\n",
              " 658,\n",
              " 660,\n",
              " 662,\n",
              " 664,\n",
              " 666,\n",
              " 668,\n",
              " 670,\n",
              " 672,\n",
              " 674,\n",
              " 676,\n",
              " 678,\n",
              " 680,\n",
              " 682,\n",
              " 684,\n",
              " 686,\n",
              " 688,\n",
              " 690,\n",
              " 692,\n",
              " 694,\n",
              " 696,\n",
              " 698,\n",
              " 700,\n",
              " 702,\n",
              " 704,\n",
              " 706,\n",
              " 708,\n",
              " 710,\n",
              " 712,\n",
              " 714,\n",
              " 716,\n",
              " 718,\n",
              " 720,\n",
              " 722,\n",
              " 724,\n",
              " 726,\n",
              " 728,\n",
              " 730,\n",
              " 732,\n",
              " 734,\n",
              " 736,\n",
              " 738,\n",
              " 740,\n",
              " 742,\n",
              " 744,\n",
              " 746,\n",
              " 748,\n",
              " 750,\n",
              " 752,\n",
              " 754,\n",
              " 756,\n",
              " 758,\n",
              " 760,\n",
              " 762,\n",
              " 764,\n",
              " 766,\n",
              " 768,\n",
              " 770,\n",
              " 772,\n",
              " 774,\n",
              " 776,\n",
              " 778,\n",
              " 780,\n",
              " 782,\n",
              " 784,\n",
              " 786,\n",
              " 788,\n",
              " 790,\n",
              " 792,\n",
              " 794,\n",
              " 796,\n",
              " 798,\n",
              " 800,\n",
              " 802,\n",
              " 804,\n",
              " 806,\n",
              " 808,\n",
              " 810,\n",
              " 812,\n",
              " 814,\n",
              " 816,\n",
              " 818,\n",
              " 820,\n",
              " 822,\n",
              " 824,\n",
              " 826,\n",
              " 828,\n",
              " 830,\n",
              " 832,\n",
              " 834,\n",
              " 836,\n",
              " 838,\n",
              " 840,\n",
              " 842,\n",
              " 844,\n",
              " 846,\n",
              " 848,\n",
              " 850,\n",
              " 852,\n",
              " 854,\n",
              " 856,\n",
              " 858,\n",
              " 860,\n",
              " 862,\n",
              " 864,\n",
              " 866,\n",
              " 868,\n",
              " 870,\n",
              " 872,\n",
              " 874,\n",
              " 876,\n",
              " 878,\n",
              " 880,\n",
              " 882,\n",
              " 884,\n",
              " 886,\n",
              " 888,\n",
              " 890,\n",
              " 892,\n",
              " 894,\n",
              " 896,\n",
              " 898,\n",
              " 900,\n",
              " 902,\n",
              " 904,\n",
              " 906,\n",
              " 908,\n",
              " 910,\n",
              " 912,\n",
              " 914,\n",
              " 916,\n",
              " 918,\n",
              " 920,\n",
              " 922,\n",
              " 924,\n",
              " 926,\n",
              " 928,\n",
              " 930,\n",
              " 932,\n",
              " 934,\n",
              " 936,\n",
              " 938,\n",
              " 940,\n",
              " 942,\n",
              " 944,\n",
              " 946,\n",
              " 948,\n",
              " 950,\n",
              " 952,\n",
              " 954,\n",
              " 956,\n",
              " 958,\n",
              " 960,\n",
              " 962,\n",
              " 964,\n",
              " 966,\n",
              " 968,\n",
              " 970,\n",
              " 972,\n",
              " 974,\n",
              " 976,\n",
              " 978,\n",
              " 980,\n",
              " 982,\n",
              " 984,\n",
              " 986,\n",
              " 988,\n",
              " 990,\n",
              " 992,\n",
              " 994,\n",
              " 996,\n",
              " 998]"
            ]
          },
          "metadata": {
            "tags": []
          },
          "execution_count": 8
        }
      ]
    }
  ]
}