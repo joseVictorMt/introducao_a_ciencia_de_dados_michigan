{
  "nbformat": 4,
  "nbformat_minor": 0,
  "metadata": {
    "kernelspec": {
      "display_name": "Python 3",
      "language": "python",
      "name": "python3"
    },
    "language_info": {
      "codemirror_mode": {
        "name": "ipython",
        "version": 3
      },
      "file_extension": ".py",
      "mimetype": "text/x-python",
      "name": "python",
      "nbconvert_exporter": "python",
      "pygments_lexer": "ipython3",
      "version": "3.6.2"
    },
    "colab": {
      "name": "Week_1_Functions_Types_and_Sequences.ipynb",
      "provenance": [],
      "collapsed_sections": [
        "D90pXSKwFgkZ",
        "3Aa_iAeMFglB",
        "-GeyrABtFgnQ",
        "7HT1LkMhFgn6",
        "lAmczlr6FgoL"
      ]
    }
  },
  "cells": [
    {
      "cell_type": "markdown",
      "metadata": {
        "id": "D90pXSKwFgkZ",
        "colab_type": "text"
      },
      "source": [
        "## Linguagem de Programação Python: Funções##"
      ]
    },
    {
      "cell_type": "markdown",
      "metadata": {
        "id": "YHSV3wkiFksO",
        "colab_type": "text"
      },
      "source": [
        "Python é uma linguagem fracamente tipada, portanto não é necessário definir os tipos de suas variáveis. Para criar uma nova variável, basta escrever o nome dela e atribuir um valor qualquer usando o operador de atribuição \"**=**\"."
      ]
    },
    {
      "cell_type": "code",
      "metadata": {
        "id": "Qm6E8Zu4Fgkb",
        "colab_type": "code",
        "colab": {
          "base_uri": "https://localhost:8080/",
          "height": 34
        },
        "outputId": "7475bd53-a379-48fe-9247-687123f2e84a"
      },
      "source": [
        "x = 1\n",
        "y = 2\n",
        "x"
      ],
      "execution_count": null,
      "outputs": [
        {
          "output_type": "execute_result",
          "data": {
            "text/plain": [
              "1"
            ]
          },
          "metadata": {
            "tags": []
          },
          "execution_count": 5
        }
      ]
    },
    {
      "cell_type": "markdown",
      "metadata": {
        "id": "CGb9MYwSJAm7",
        "colab_type": "text"
      },
      "source": [
        "Assim como em outras linguagens, no Python também podemos usar as quatro operações aritméticas básicas que são soma, subtração, multiplicação e divisão. Contudo, para divisão existem dois operadores diferentes, sendo eles **`/`** para divisão decimal e **`//`** para divisão inteira. Além disso, há os operadores `**` para cálculo de potência e **`%`** para resto da divisão."
      ]
    },
    {
      "cell_type": "code",
      "metadata": {
        "scrolled": true,
        "id": "gWoKVSaaFgkk",
        "colab_type": "code",
        "colab": {
          "base_uri": "https://localhost:8080/",
          "height": 136
        },
        "outputId": "9ccc3f8e-bbd5-4d75-8c76-6776584ae8fa"
      },
      "source": [
        "print('x + y  = {}'.format(x + y))  # Adição\n",
        "print('x - y  = {}'.format(x - y))  # Subtração\n",
        "print('x * y  = {}'.format(x * y))  # Multiplicação\n",
        "print('x / y  = {}'.format(x / y))  # Divisão\n",
        "print('x // y = {}'.format(x // y)) # Divisão inteira\n",
        "print('x ** y = {}'.format(x ** y)) # Potenciação\n",
        "print('x % y  = {}'.format(x % y))  # Resto da divisão"
      ],
      "execution_count": null,
      "outputs": [
        {
          "output_type": "stream",
          "text": [
            "x + y  = 3\n",
            "x - y  = -1\n",
            "x * y  = 2\n",
            "x / y  = 0.5\n",
            "x // y = 0\n",
            "x ** y = 1\n",
            "x % y  = 1\n"
          ],
          "name": "stdout"
        }
      ]
    },
    {
      "cell_type": "markdown",
      "metadata": {
        "id": "VDwvFEN7La6x",
        "colab_type": "text"
      },
      "source": [
        "O operador **`-`** também pode ser usado para tornar um número negativo."
      ]
    },
    {
      "cell_type": "code",
      "metadata": {
        "id": "FpO-u9mOLXQ5",
        "colab_type": "code",
        "colab": {
          "base_uri": "https://localhost:8080/",
          "height": 51
        },
        "outputId": "874380c5-c209-4668-8032-552338c0a280"
      },
      "source": [
        " print('-x = {}'.format(-x))\n",
        " print('-y = {}'.format(-y))"
      ],
      "execution_count": null,
      "outputs": [
        {
          "output_type": "stream",
          "text": [
            "-x = -1\n",
            "-y = -2\n"
          ],
          "name": "stdout"
        }
      ]
    },
    {
      "cell_type": "markdown",
      "metadata": {
        "id": "gAsZNCQENBVO",
        "colab_type": "text"
      },
      "source": [
        "Funções são blocos de código que apenas são executados se forem chamado. Dados podem ser passados para funções através de variáveis chamadas de **parâmetros**. No Python as funções são geradas usando a palavra chave **`def`**, e seus parâmetros podem receber qualquer tipo de dado, sejam eles valores primitivos (inteiros, decimais, booleanos e caracteres), listas, strings, objetos ou até mesmo outras funções. Podemos fazer uma função retornar valor através da palavra chave **`return`**."
      ]
    },
    {
      "cell_type": "code",
      "metadata": {
        "id": "w-FeyHTxFgku",
        "colab_type": "code",
        "colab": {
          "base_uri": "https://localhost:8080/",
          "height": 34
        },
        "outputId": "0aa7dea0-7090-4c6f-e70a-02200326ddda"
      },
      "source": [
        "def add_numbers(x, y):\n",
        "    return x + y\n",
        "\n",
        "add_numbers(1, 2)"
      ],
      "execution_count": null,
      "outputs": [
        {
          "output_type": "execute_result",
          "data": {
            "text/plain": [
              "3"
            ]
          },
          "metadata": {
            "tags": []
          },
          "execution_count": 21
        }
      ]
    },
    {
      "cell_type": "markdown",
      "metadata": {
        "id": "brYvwXINPMKy",
        "colab_type": "text"
      },
      "source": [
        "No Python os parâmetros de uma função podem ter um valor atribuído por padrão. Com isso, a função pode ser chamada sem inserir valor nos parâmetros já valorados."
      ]
    },
    {
      "cell_type": "code",
      "metadata": {
        "id": "Qjnk6ZtUFgk0",
        "colab_type": "code",
        "colab": {
          "base_uri": "https://localhost:8080/",
          "height": 51
        },
        "outputId": "ea2222a7-1684-4fa4-a017-526d8021048c"
      },
      "source": [
        "def add_numbers(x, y, z=0):\n",
        "    return x + y + z\n",
        "\n",
        "print(add_numbers(1, 2))\n",
        "print(add_numbers(1, 2, 3))"
      ],
      "execution_count": null,
      "outputs": [
        {
          "output_type": "stream",
          "text": [
            "3\n",
            "6\n"
          ],
          "name": "stdout"
        }
      ]
    },
    {
      "cell_type": "markdown",
      "metadata": {
        "id": "gXCINtktQcmS",
        "colab_type": "text"
      },
      "source": [
        "Parâmetros com valores inseridos por padrão devem sempre ser colocados à direita."
      ]
    },
    {
      "cell_type": "code",
      "metadata": {
        "id": "5ZUoo2unFgk7",
        "colab_type": "code",
        "colab": {
          "base_uri": "https://localhost:8080/",
          "height": 51
        },
        "outputId": "b73244bd-d0f8-4434-dcfa-74794b9d5c0e"
      },
      "source": [
        "def add_numbers(x, y, z=None, flag=False):\n",
        "    if (flag):\n",
        "        print('Flag is true!')\n",
        "    if(z == None):\n",
        "        return x + y\n",
        "    else:\n",
        "        return x + y + z\n",
        "\n",
        "print(add_numbers(1, 2, flag=True))"
      ],
      "execution_count": null,
      "outputs": [
        {
          "output_type": "stream",
          "text": [
            "Flag is true!\n",
            "3\n"
          ],
          "name": "stdout"
        }
      ]
    },
    {
      "cell_type": "markdown",
      "metadata": {
        "id": "3Aa_iAeMFglB",
        "colab_type": "text"
      },
      "source": [
        "## Linguagem de Programação Python: Tipos e Sequências ##"
      ]
    },
    {
      "cell_type": "markdown",
      "metadata": {
        "id": "ruoqpe4XRZJb",
        "colab_type": "text"
      },
      "source": [
        "Apesar de não ser necessário definir explicitamente os tipos das variáveis (como em linguagens fortemente tipadas tais como C, C++ e Java), isso não significa que no Python não existam tipos. Para ver o tipo de um valor, basta usar a função **`type`**."
      ]
    },
    {
      "cell_type": "code",
      "metadata": {
        "id": "pHHRTjGmFglC",
        "colab_type": "code",
        "colab": {
          "base_uri": "https://localhost:8080/",
          "height": 34
        },
        "outputId": "cb5f4578-c475-4bc5-ce56-293b16ea67f9"
      },
      "source": [
        "type('This is a string.') # String são sequências de caracteres."
      ],
      "execution_count": null,
      "outputs": [
        {
          "output_type": "execute_result",
          "data": {
            "text/plain": [
              "str"
            ]
          },
          "metadata": {
            "tags": []
          },
          "execution_count": 30
        }
      ]
    },
    {
      "cell_type": "code",
      "metadata": {
        "id": "IywIcuEaFglI",
        "colab_type": "code",
        "colab": {
          "base_uri": "https://localhost:8080/",
          "height": 34
        },
        "outputId": "b48bd2f8-2bbf-4344-e96a-5433b191f509"
      },
      "source": [
        "type(None) # None é um valor nulo (equivale a \"null\" em outras linguagens)."
      ],
      "execution_count": null,
      "outputs": [
        {
          "output_type": "execute_result",
          "data": {
            "text/plain": [
              "NoneType"
            ]
          },
          "metadata": {
            "tags": []
          },
          "execution_count": 33
        }
      ]
    },
    {
      "cell_type": "code",
      "metadata": {
        "id": "p7VI4UoxFglS",
        "colab_type": "code",
        "colab": {
          "base_uri": "https://localhost:8080/",
          "height": 34
        },
        "outputId": "07ae331d-9825-4131-b931-d7b5320ad53d"
      },
      "source": [
        "type(1)"
      ],
      "execution_count": null,
      "outputs": [
        {
          "output_type": "execute_result",
          "data": {
            "text/plain": [
              "int"
            ]
          },
          "metadata": {
            "tags": []
          },
          "execution_count": 34
        }
      ]
    },
    {
      "cell_type": "code",
      "metadata": {
        "id": "ID9BngT2FglX",
        "colab_type": "code",
        "colab": {
          "base_uri": "https://localhost:8080/",
          "height": 34
        },
        "outputId": "153502fa-32ea-4d08-c433-fbffcecc2fb2"
      },
      "source": [
        "type(1.0)"
      ],
      "execution_count": null,
      "outputs": [
        {
          "output_type": "execute_result",
          "data": {
            "text/plain": [
              "float"
            ]
          },
          "metadata": {
            "tags": []
          },
          "execution_count": 35
        }
      ]
    },
    {
      "cell_type": "code",
      "metadata": {
        "id": "0lYkDj2JFglc",
        "colab_type": "code",
        "colab": {
          "base_uri": "https://localhost:8080/",
          "height": 34
        },
        "outputId": "7183a9ae-86ad-4b55-ab40-59253f21d711"
      },
      "source": [
        "type(add_numbers)"
      ],
      "execution_count": null,
      "outputs": [
        {
          "output_type": "execute_result",
          "data": {
            "text/plain": [
              "function"
            ]
          },
          "metadata": {
            "tags": []
          },
          "execution_count": 36
        }
      ]
    },
    {
      "cell_type": "markdown",
      "metadata": {
        "id": "D0_KW74XSyIy",
        "colab_type": "text"
      },
      "source": [
        "Tuplas são sequências de valores gerados com o operador parêntesis \"( )\", podendo eles serem de qualquer tipo. Tuplas são imutáveis, ou seja, não podem ter seus valores alterados e nem receber novos valores."
      ]
    },
    {
      "cell_type": "code",
      "metadata": {
        "id": "IP-rWRs9Fglg",
        "colab_type": "code",
        "colab": {
          "base_uri": "https://localhost:8080/",
          "height": 34
        },
        "outputId": "4f20b06a-4fe1-4bc1-d881-26c38e9589b1"
      },
      "source": [
        "x = (1, 'a', 2.0, 'Sabrina')\n",
        "type(x)"
      ],
      "execution_count": null,
      "outputs": [
        {
          "output_type": "execute_result",
          "data": {
            "text/plain": [
              "tuple"
            ]
          },
          "metadata": {
            "tags": []
          },
          "execution_count": 3
        }
      ]
    },
    {
      "cell_type": "markdown",
      "metadata": {
        "id": "gSG7hrfdTDv7",
        "colab_type": "text"
      },
      "source": [
        "Listas são sequências de valores gerados com o operador \"[ ]\" que podem ser de qualquer tipo. Ao contrário das tuplas, listas podem ter seus valores alterados e receber novos valores."
      ]
    },
    {
      "cell_type": "code",
      "metadata": {
        "id": "6msJpDWUFgll",
        "colab_type": "code",
        "colab": {
          "base_uri": "https://localhost:8080/",
          "height": 34
        },
        "outputId": "036300b5-9269-490e-9d2c-663916dd66d4"
      },
      "source": [
        "y = [1, 'a', 3, 'b']\n",
        "type(y)"
      ],
      "execution_count": null,
      "outputs": [
        {
          "output_type": "execute_result",
          "data": {
            "text/plain": [
              "list"
            ]
          },
          "metadata": {
            "tags": []
          },
          "execution_count": 2
        }
      ]
    },
    {
      "cell_type": "markdown",
      "metadata": {
        "id": "hBlZ6wYwUPMu",
        "colab_type": "text"
      },
      "source": [
        "Para inserir um novo valor numa lista, basta usar a função **`.append`**."
      ]
    },
    {
      "cell_type": "code",
      "metadata": {
        "id": "YO_hxQMWFglr",
        "colab_type": "code",
        "colab": {},
        "outputId": "06f1711c-2bfd-4707-c012-4711880244bc"
      },
      "source": [
        "y.append(5)\n",
        "print(y)"
      ],
      "execution_count": null,
      "outputs": [
        {
          "output_type": "stream",
          "text": [
            "[1, 'a', 3, 'b', 5]\n"
          ],
          "name": "stdout"
        }
      ]
    },
    {
      "cell_type": "markdown",
      "metadata": {
        "id": "kqxM5b5bKDP3",
        "colab_type": "text"
      },
      "source": [
        "O loop **`for`** também predomina no Python, mas assim como no Java e no JavaScript ele também possui uma variante na qual permite pegar itens de um objeto iterável em cada interação sem precisar usar o índice."
      ]
    },
    {
      "cell_type": "code",
      "metadata": {
        "id": "113kJworFglv",
        "colab_type": "code",
        "colab": {
          "base_uri": "https://localhost:8080/",
          "height": 85
        },
        "outputId": "fb87f5d4-d93c-4e00-efee-37d9c88d728f"
      },
      "source": [
        "for item in y:\n",
        "    print(item)"
      ],
      "execution_count": null,
      "outputs": [
        {
          "output_type": "stream",
          "text": [
            "1\n",
            "a\n",
            "3\n",
            "b\n"
          ],
          "name": "stdout"
        }
      ]
    },
    {
      "cell_type": "markdown",
      "metadata": {
        "id": "36jSWuo4LKYp",
        "colab_type": "text"
      },
      "source": [
        "O loop **`while`**, tal como em outras linguagens, executa um bloco de código enquanto a condição estabelecida for verdadeira. No exemplo abaixo a condição é que **i** seja menor que o tamanho da lista x."
      ]
    },
    {
      "cell_type": "code",
      "metadata": {
        "id": "tbTgbLKeFglz",
        "colab_type": "code",
        "colab": {
          "base_uri": "https://localhost:8080/",
          "height": 85
        },
        "outputId": "e0f908e0-e8a9-4f04-dda6-274fbfd538b3"
      },
      "source": [
        "i = 0\n",
        "while(i < len(x)):\n",
        "    print(x[i])\n",
        "    i += 1"
      ],
      "execution_count": null,
      "outputs": [
        {
          "output_type": "stream",
          "text": [
            "1\n",
            "a\n",
            "2.0\n",
            "Sabrina\n"
          ],
          "name": "stdout"
        }
      ]
    },
    {
      "cell_type": "markdown",
      "metadata": {
        "id": "ZaEn9UVtLv3b",
        "colab_type": "text"
      },
      "source": [
        "O operador **`+`** no Python, além de somar valores, também pode ser usado para unir listas."
      ]
    },
    {
      "cell_type": "code",
      "metadata": {
        "id": "SJ6cFXHBFgl3",
        "colab_type": "code",
        "colab": {},
        "outputId": "a39f51a3-77e7-4ed3-92f7-7b3e4a1e04f6"
      },
      "source": [
        "[1, 2] + [3, 4]"
      ],
      "execution_count": null,
      "outputs": [
        {
          "output_type": "execute_result",
          "data": {
            "text/plain": [
              "[1, 2, 3, 4]"
            ]
          },
          "metadata": {
            "tags": []
          },
          "execution_count": 25
        }
      ]
    },
    {
      "cell_type": "code",
      "metadata": {
        "id": "5lCyYAlfL_qA",
        "colab_type": "code",
        "colab": {
          "base_uri": "https://localhost:8080/",
          "height": 35
        },
        "outputId": "6df80151-4091-4247-db25-5d82095e5d8c"
      },
      "source": [
        "'José' + ' ' + 'Victor'"
      ],
      "execution_count": null,
      "outputs": [
        {
          "output_type": "execute_result",
          "data": {
            "application/vnd.google.colaboratory.intrinsic+json": {
              "type": "string"
            },
            "text/plain": [
              "'José Victor'"
            ]
          },
          "metadata": {
            "tags": []
          },
          "execution_count": 8
        }
      ]
    },
    {
      "cell_type": "markdown",
      "metadata": {
        "id": "9wMfFwubMKSw",
        "colab_type": "text"
      },
      "source": [
        "E o operador **`*`**, além de multiplicar números, também pode ser usado para repetir valores de um array."
      ]
    },
    {
      "cell_type": "code",
      "metadata": {
        "id": "ZGdVxZYhFgl7",
        "colab_type": "code",
        "colab": {
          "base_uri": "https://localhost:8080/",
          "height": 34
        },
        "outputId": "bb93d20f-9a85-4a2b-fb86-d71969300786"
      },
      "source": [
        "[1] * 3"
      ],
      "execution_count": null,
      "outputs": [
        {
          "output_type": "execute_result",
          "data": {
            "text/plain": [
              "[1, 1, 1]"
            ]
          },
          "metadata": {
            "tags": []
          },
          "execution_count": 9
        }
      ]
    },
    {
      "cell_type": "code",
      "metadata": {
        "id": "RaCJk5GdMeOv",
        "colab_type": "code",
        "colab": {
          "base_uri": "https://localhost:8080/",
          "height": 34
        },
        "outputId": "da620e1a-8159-4ff5-832d-9475dc432b18"
      },
      "source": [
        "[1, 'abc', 2.3, 'e'] * 3"
      ],
      "execution_count": null,
      "outputs": [
        {
          "output_type": "execute_result",
          "data": {
            "text/plain": [
              "[1, 'abc', 2.3, 'e', 1, 'abc', 2.3, 'e', 1, 'abc', 2.3, 'e']"
            ]
          },
          "metadata": {
            "tags": []
          },
          "execution_count": 10
        }
      ]
    },
    {
      "cell_type": "markdown",
      "metadata": {
        "id": "A8Qp_lpkMuSn",
        "colab_type": "text"
      },
      "source": [
        "A palavra chave **`in`** é usada para verificar se um valor está dentro de um objeto, o que em teoria dos conjuntos é equivalente ao operador **pertence**."
      ]
    },
    {
      "cell_type": "code",
      "metadata": {
        "id": "sPSK_y6lFgl_",
        "colab_type": "code",
        "colab": {
          "base_uri": "https://localhost:8080/",
          "height": 34
        },
        "outputId": "6d3f5b54-b8f5-4951-f5a3-27a13e70926d"
      },
      "source": [
        "1 in [1, 2, 3]"
      ],
      "execution_count": null,
      "outputs": [
        {
          "output_type": "execute_result",
          "data": {
            "text/plain": [
              "True"
            ]
          },
          "metadata": {
            "tags": []
          },
          "execution_count": 12
        }
      ]
    },
    {
      "cell_type": "code",
      "metadata": {
        "id": "F9NWh-m5NE6i",
        "colab_type": "code",
        "colab": {
          "base_uri": "https://localhost:8080/",
          "height": 34
        },
        "outputId": "9b583f15-6f93-49bf-bf8d-725df494313b"
      },
      "source": [
        "[1, 2] in [1, 2, 3]"
      ],
      "execution_count": null,
      "outputs": [
        {
          "output_type": "execute_result",
          "data": {
            "text/plain": [
              "False"
            ]
          },
          "metadata": {
            "tags": []
          },
          "execution_count": 13
        }
      ]
    },
    {
      "cell_type": "markdown",
      "metadata": {
        "id": "WGdXTSBWNS5W",
        "colab_type": "text"
      },
      "source": [
        "Strings, por serem listas de caracteres, são indexáveis. O operador slice (**:**), como o próprio nome sugere, extrai subconjuntos de um conjunto indexável, que no caso de uma string é uma substring."
      ]
    },
    {
      "cell_type": "code",
      "metadata": {
        "id": "s9Cmf9-3FgmE",
        "colab_type": "code",
        "colab": {
          "base_uri": "https://localhost:8080/",
          "height": 68
        },
        "outputId": "d8a57bdd-a0c3-4491-c80c-59726da559b4"
      },
      "source": [
        "z = \"This is a string\"\n",
        "print(z[0])\n",
        "print(z[0:1])\n",
        "print(z[0:2])"
      ],
      "execution_count": null,
      "outputs": [
        {
          "output_type": "stream",
          "text": [
            "T\n",
            "T\n",
            "Th\n"
          ],
          "name": "stdout"
        }
      ]
    },
    {
      "cell_type": "markdown",
      "metadata": {
        "id": "XmQRphJRObnT",
        "colab_type": "text"
      },
      "source": [
        "Em Python, podemos obter elementos de um objeto usando números negativos, com isso o acesso passa a ser da direita para a esquerda. Números negativos também podem ser usados com o operador slice."
      ]
    },
    {
      "cell_type": "code",
      "metadata": {
        "id": "B5_kZS1qFgmH",
        "colab_type": "code",
        "colab": {
          "base_uri": "https://localhost:8080/",
          "height": 35
        },
        "outputId": "970ecc29-a1a3-4bb8-c6a2-66346b366085"
      },
      "source": [
        "z[-1]"
      ],
      "execution_count": null,
      "outputs": [
        {
          "output_type": "execute_result",
          "data": {
            "application/vnd.google.colaboratory.intrinsic+json": {
              "type": "string"
            },
            "text/plain": [
              "'g'"
            ]
          },
          "metadata": {
            "tags": []
          },
          "execution_count": 15
        }
      ]
    },
    {
      "cell_type": "code",
      "metadata": {
        "id": "_AyxHDI3FgmM",
        "colab_type": "code",
        "colab": {
          "base_uri": "https://localhost:8080/",
          "height": 35
        },
        "outputId": "5f738ae8-b52d-4e52-d016-0eeaf1f766a9"
      },
      "source": [
        "z[-4:-1]"
      ],
      "execution_count": null,
      "outputs": [
        {
          "output_type": "execute_result",
          "data": {
            "application/vnd.google.colaboratory.intrinsic+json": {
              "type": "string"
            },
            "text/plain": [
              "'rin'"
            ]
          },
          "metadata": {
            "tags": []
          },
          "execution_count": 16
        }
      ]
    },
    {
      "cell_type": "markdown",
      "metadata": {
        "id": "kBQ1z9h1PW8s",
        "colab_type": "text"
      },
      "source": [
        "Podemos também omitir valores no operador slice. Se fizermos isso na esquerda, ele considerará como valor de início como zero, e se for na direita será o tamanho do array - 1."
      ]
    },
    {
      "cell_type": "code",
      "metadata": {
        "id": "UOqRTRDWFgmP",
        "colab_type": "code",
        "colab": {},
        "outputId": "67c2bb24-9f82-4fea-e1d0-70f96628886e"
      },
      "source": [
        "z[:3]"
      ],
      "execution_count": null,
      "outputs": [
        {
          "output_type": "execute_result",
          "data": {
            "text/plain": [
              "'Thi'"
            ]
          },
          "metadata": {
            "tags": []
          },
          "execution_count": 33
        }
      ]
    },
    {
      "cell_type": "code",
      "metadata": {
        "id": "kMsOsLOmFgmT",
        "colab_type": "code",
        "colab": {},
        "outputId": "90faed9e-e014-40ec-b679-043dbadea268"
      },
      "source": [
        "z[3:]"
      ],
      "execution_count": null,
      "outputs": [
        {
          "output_type": "execute_result",
          "data": {
            "text/plain": [
              "'s is a string'"
            ]
          },
          "metadata": {
            "tags": []
          },
          "execution_count": 34
        }
      ]
    },
    {
      "cell_type": "markdown",
      "metadata": {
        "id": "q_aWkRwTP5Gk",
        "colab_type": "text"
      },
      "source": [
        "Como strings representam listas de caracteres, todos os operadores usados para listas também podem ser usados para strings."
      ]
    },
    {
      "cell_type": "code",
      "metadata": {
        "id": "JbTd5_VrFgmX",
        "colab_type": "code",
        "colab": {
          "base_uri": "https://localhost:8080/",
          "height": 68
        },
        "outputId": "5875c711-f25c-491d-d35e-93b27fcd8386"
      },
      "source": [
        "firstname = 'José'\n",
        "lastname = 'Victor'\n",
        "print(firstname + ' ' + lastname)\n",
        "print(firstname * 3)\n",
        "print('Vic' in lastname)"
      ],
      "execution_count": null,
      "outputs": [
        {
          "output_type": "stream",
          "text": [
            "José Victor\n",
            "JoséJoséJosé\n",
            "True\n"
          ],
          "name": "stdout"
        }
      ]
    },
    {
      "cell_type": "markdown",
      "metadata": {
        "id": "6EAbVLtjQmYC",
        "colab_type": "text"
      },
      "source": [
        "A função split divide uma string em lista de substrings utilizando um separador como parâmetro, que por padrão é espaço."
      ]
    },
    {
      "cell_type": "code",
      "metadata": {
        "id": "XXskoR3nFgmb",
        "colab_type": "code",
        "colab": {
          "base_uri": "https://localhost:8080/",
          "height": 51
        },
        "outputId": "0c0f3872-e6fa-4399-ff8a-fcfcfc8ad2d7"
      },
      "source": [
        "firstword = 'José Victor is using a Jupiter Notebook'.split(' ')[0]\n",
        "lastword = 'José Victor is using a Jupiter Notebook'.split(' ')[-1]\n",
        "print(firstword)\n",
        "print(lastword)"
      ],
      "execution_count": null,
      "outputs": [
        {
          "output_type": "stream",
          "text": [
            "José\n",
            "Notebook\n"
          ],
          "name": "stdout"
        }
      ]
    },
    {
      "cell_type": "markdown",
      "metadata": {
        "id": "aWkPczL-RIxi",
        "colab_type": "text"
      },
      "source": [
        "Além do separador, split possui o parâmetro **maxsplit** que determina a quantidade máxima de divisões a serem implementadas."
      ]
    },
    {
      "cell_type": "code",
      "metadata": {
        "id": "N9wNYySKRyK5",
        "colab_type": "code",
        "colab": {
          "base_uri": "https://localhost:8080/",
          "height": 34
        },
        "outputId": "514a62a6-580d-49e8-c638-ce1c13c7108e"
      },
      "source": [
        "'José Victor is using a Jupiter Notebook'.split(maxsplit=2)"
      ],
      "execution_count": null,
      "outputs": [
        {
          "output_type": "execute_result",
          "data": {
            "text/plain": [
              "['José', 'Victor', 'is using a Jupiter Notebook']"
            ]
          },
          "metadata": {
            "tags": []
          },
          "execution_count": 22
        }
      ]
    },
    {
      "cell_type": "markdown",
      "metadata": {
        "id": "piOjCkHqSQzE",
        "colab_type": "text"
      },
      "source": [
        "Dicionários são estruturas de dados nas quais cada **valor** é indexado por uma **chave** que pode ser de qualquer tipo. Seus valores podem ser acessados por suas chaves."
      ]
    },
    {
      "cell_type": "code",
      "metadata": {
        "id": "xt1lc5H9Fgmf",
        "colab_type": "code",
        "colab": {
          "base_uri": "https://localhost:8080/",
          "height": 34
        },
        "outputId": "0b6acf28-80ca-4759-c1cb-a0263f33cffc"
      },
      "source": [
        "x = {'Cristopher Brooks' : 'brooksch@umich.edu', 'Bill Gates' : 'billg@microsoft.com'}\n",
        "print(x['Cristopher Brooks'])"
      ],
      "execution_count": null,
      "outputs": [
        {
          "output_type": "stream",
          "text": [
            "brooksch@umich.edu\n"
          ],
          "name": "stdout"
        }
      ]
    },
    {
      "cell_type": "markdown",
      "metadata": {
        "id": "kVkxHRdpSsbF",
        "colab_type": "text"
      },
      "source": [
        "Para inserir um novo valor para um dicionário, basta usar o operador de indexação **[ ]** com a nova chave e o operador de atribuição **=** para inserir o novo valor."
      ]
    },
    {
      "cell_type": "code",
      "metadata": {
        "id": "2o1sHVw0Fgmk",
        "colab_type": "code",
        "colab": {
          "base_uri": "https://localhost:8080/",
          "height": 34
        },
        "outputId": "0e0c0c20-0efb-4a64-b960-6ae4e9371cc2"
      },
      "source": [
        "x['Maria Medeiros'] = None\n",
        "x['Maria Medeiros'] = 'mmariammedeiros@yahoo.com.br'\n",
        "print(x['Maria Medeiros'])"
      ],
      "execution_count": null,
      "outputs": [
        {
          "output_type": "stream",
          "text": [
            "mmariammedeiros@yahoo.com.br\n"
          ],
          "name": "stdout"
        }
      ]
    },
    {
      "cell_type": "markdown",
      "metadata": {
        "id": "X7ZXWkRaYfem",
        "colab_type": "text"
      },
      "source": [
        "Dicionários também são objetos iteráveis, podendo iterar através das chaves, dos valores usando a função **`.values`** ou de ambos usando a função **`.items`**."
      ]
    },
    {
      "cell_type": "code",
      "metadata": {
        "id": "aIBo1StOFgmo",
        "colab_type": "code",
        "colab": {
          "base_uri": "https://localhost:8080/",
          "height": 68
        },
        "outputId": "5e119343-635a-4d75-f484-0f8c2a08f2da"
      },
      "source": [
        "for name in x:\n",
        "    print(x[name])"
      ],
      "execution_count": null,
      "outputs": [
        {
          "output_type": "stream",
          "text": [
            "brooksch@umich.edu\n",
            "billg@microsoft.com\n",
            "mmariammedeiros@yahoo.com.br\n"
          ],
          "name": "stdout"
        }
      ]
    },
    {
      "cell_type": "code",
      "metadata": {
        "id": "lshR_p0MFgms",
        "colab_type": "code",
        "colab": {
          "base_uri": "https://localhost:8080/",
          "height": 68
        },
        "outputId": "7545a77d-4265-44fc-9acb-4e12e2f27d61"
      },
      "source": [
        "for email in x.values():\n",
        "    print(email)"
      ],
      "execution_count": null,
      "outputs": [
        {
          "output_type": "stream",
          "text": [
            "brooksch@umich.edu\n",
            "billg@microsoft.com\n",
            "mmariammedeiros@yahoo.com.br\n"
          ],
          "name": "stdout"
        }
      ]
    },
    {
      "cell_type": "code",
      "metadata": {
        "id": "ska0nS1VFgmw",
        "colab_type": "code",
        "colab": {
          "base_uri": "https://localhost:8080/",
          "height": 68
        },
        "outputId": "56b764f6-8c45-4408-c2db-f8b196cee7da"
      },
      "source": [
        "for name, email in x.items():\n",
        "    print(name + ' - ' + email)"
      ],
      "execution_count": null,
      "outputs": [
        {
          "output_type": "stream",
          "text": [
            "Cristopher Brooks - brooksch@umich.edu\n",
            "Bill Gates - billg@microsoft.com\n",
            "Maria Medeiros - mmariammedeiros@yahoo.com.br\n"
          ],
          "name": "stdout"
        }
      ]
    },
    {
      "cell_type": "markdown",
      "metadata": {
        "id": "ExUWH4vtZku7",
        "colab_type": "text"
      },
      "source": [
        "O operador de atribuição também pode ser usado para atribuir os valores de um array para diferentes variáveis."
      ]
    },
    {
      "cell_type": "code",
      "metadata": {
        "id": "qx3Dd6HXFgm2",
        "colab_type": "code",
        "colab": {
          "base_uri": "https://localhost:8080/",
          "height": 51
        },
        "outputId": "88030cc0-2be9-4a58-be02-87df4eabf66c"
      },
      "source": [
        "x = ['José', 'Victor', 'josevictor@dcc.ufrj.br']\n",
        "firstname, lastname, email = x\n",
        "print(firstname)\n",
        "print(email)"
      ],
      "execution_count": null,
      "outputs": [
        {
          "output_type": "stream",
          "text": [
            "José\n",
            "josevictor@dcc.ufrj.br\n"
          ],
          "name": "stdout"
        }
      ]
    },
    {
      "cell_type": "markdown",
      "metadata": {
        "id": "JFWs73cUZw5_",
        "colab_type": "text"
      },
      "source": [
        "No entanto, a quantidade de variáveis a receber o valor deve ser a mesma do tamanho do array. Caso contrário, disparará um ValueError."
      ]
    },
    {
      "cell_type": "code",
      "metadata": {
        "id": "iQBViS1cFgnD",
        "colab_type": "code",
        "colab": {},
        "outputId": "dedb3299-37ff-43a1-f406-4f6401a232b8"
      },
      "source": [
        "x = ['José', 'Victor', 'josevictor@dcc.ufrj.br', '+55 (21) 99779-2091']\n",
        "firstname, lastname, email = x"
      ],
      "execution_count": null,
      "outputs": [
        {
          "output_type": "error",
          "ename": "ValueError",
          "evalue": "too many values to unpack (expected 3)",
          "traceback": [
            "\u001b[0;31m---------------------------------------------------------------------------\u001b[0m",
            "\u001b[0;31mValueError\u001b[0m                                Traceback (most recent call last)",
            "\u001b[0;32m<ipython-input-21-6985e6010ae9>\u001b[0m in \u001b[0;36m<module>\u001b[0;34m()\u001b[0m\n\u001b[1;32m      1\u001b[0m \u001b[0mx\u001b[0m \u001b[0;34m=\u001b[0m \u001b[0;34m[\u001b[0m\u001b[0;34m'José'\u001b[0m\u001b[0;34m,\u001b[0m \u001b[0;34m'Victor'\u001b[0m\u001b[0;34m,\u001b[0m \u001b[0;34m'josevictor@dcc.ufrj.br'\u001b[0m\u001b[0;34m,\u001b[0m \u001b[0;34m'+55 (21) 99779-2091'\u001b[0m\u001b[0;34m]\u001b[0m\u001b[0;34m\u001b[0m\u001b[0m\n\u001b[0;32m----> 2\u001b[0;31m \u001b[0mfirstname\u001b[0m\u001b[0;34m,\u001b[0m \u001b[0mlastname\u001b[0m\u001b[0;34m,\u001b[0m \u001b[0memail\u001b[0m \u001b[0;34m=\u001b[0m \u001b[0mx\u001b[0m\u001b[0;34m\u001b[0m\u001b[0m\n\u001b[0m",
            "\u001b[0;31mValueError\u001b[0m: too many values to unpack (expected 3)"
          ]
        }
      ]
    },
    {
      "cell_type": "markdown",
      "metadata": {
        "id": "OXrXWEgwaDPf",
        "colab_type": "text"
      },
      "source": [
        "Ao usar o operador **+** para concatenar uma string com um número, esse número precisa ser convertido para string primeiro."
      ]
    },
    {
      "cell_type": "code",
      "metadata": {
        "id": "GJFA39TsFgnH",
        "colab_type": "code",
        "colab": {
          "base_uri": "https://localhost:8080/",
          "height": 34
        },
        "outputId": "952bec5e-a769-48bd-f691-66e35811f1cb"
      },
      "source": [
        "print('Number ' + str(2))"
      ],
      "execution_count": null,
      "outputs": [
        {
          "output_type": "stream",
          "text": [
            "Number 2\n"
          ],
          "name": "stdout"
        }
      ]
    },
    {
      "cell_type": "markdown",
      "metadata": {
        "id": "a5v7ZbpHaraX",
        "colab_type": "text"
      },
      "source": [
        "Entretanto, há uma forma mais eficiente e organizada de adicionar valores em uma string, que é usando a função **.format** junto com **{}** na string nos locais onde entrarão os valores."
      ]
    },
    {
      "cell_type": "code",
      "metadata": {
        "id": "ZIJ3MA5eFgnL",
        "colab_type": "code",
        "colab": {},
        "outputId": "13612a10-028a-4421-ad6b-2889f005a63c"
      },
      "source": [
        "sales_record = {'price' : 3.24,\n",
        "               'num_items' : 4,\n",
        "               'person' : 'Chris'}\n",
        "\n",
        "sales_statement = '{} bought {} item(s) at a price of {} each for a total of {}'\n",
        "print(sales_statement.format(sales_record['person'],\n",
        "                            sales_record['num_items'],\n",
        "                            sales_record['price'],\n",
        "                            sales_record['price'] * sales_record['num_items']))"
      ],
      "execution_count": null,
      "outputs": [
        {
          "output_type": "stream",
          "text": [
            "Chris bought 4 item(s) at a price of 3.24 each for a total of 12.96\n"
          ],
          "name": "stdout"
        }
      ]
    },
    {
      "cell_type": "markdown",
      "metadata": {
        "collapsed": true,
        "id": "-GeyrABtFgnQ",
        "colab_type": "text"
      },
      "source": [
        "# Linguagem de Programação Python: Dates e Times"
      ]
    },
    {
      "cell_type": "markdown",
      "metadata": {
        "id": "rNELQ3zRrYV_",
        "colab_type": "text"
      },
      "source": [
        "Uma das maneiras mais comuns de se armazenar data e hora em sistemas de transação online é baseado no deslocamento a partir do **epoch**, que é [1 de janeiro de 1970](https://pt.wikipedia.org/wiki/Era_Unix). Em Python, podemos pegar a hora atual desde o *epoch* usando o módulo **`time`**."
      ]
    },
    {
      "cell_type": "code",
      "metadata": {
        "id": "-e0F9QImFgnV",
        "colab_type": "code",
        "colab": {
          "base_uri": "https://localhost:8080/",
          "height": 34
        },
        "outputId": "d36db7c0-634e-4166-c9a0-8fd435cb05ab"
      },
      "source": [
        "import time as tm\n",
        "tm.time()"
      ],
      "execution_count": null,
      "outputs": [
        {
          "output_type": "execute_result",
          "data": {
            "text/plain": [
              "1596414351.0772562"
            ]
          },
          "metadata": {
            "tags": []
          },
          "execution_count": 4
        }
      ]
    },
    {
      "cell_type": "markdown",
      "metadata": {
        "id": "OSGl7UzptJwC",
        "colab_type": "text"
      },
      "source": [
        "Podemos gerar um **marcador temporal** (timestamp) usando a função **`.fromtimestamp`** do objeto **`datetime`**, passando como parâmetro um objeto do módulo time. Quando colocamos para printar o valor do marcador temporal, vemos que o ano, o mês, o dia, as horas, os minutos e os segundos marcados pelo mesmo são expostos."
      ]
    },
    {
      "cell_type": "code",
      "metadata": {
        "id": "wvugetIKFgnY",
        "colab_type": "code",
        "colab": {
          "base_uri": "https://localhost:8080/",
          "height": 34
        },
        "outputId": "08624289-40ce-4234-ddea-cb358caaf93b"
      },
      "source": [
        "import datetime as dt\n",
        "dt_now = dt.datetime.fromtimestamp(tm.time())\n",
        "dt_now"
      ],
      "execution_count": null,
      "outputs": [
        {
          "output_type": "execute_result",
          "data": {
            "text/plain": [
              "datetime.datetime(2020, 8, 3, 0, 28, 21, 76814)"
            ]
          },
          "metadata": {
            "tags": []
          },
          "execution_count": 5
        }
      ]
    },
    {
      "cell_type": "markdown",
      "metadata": {
        "id": "vE3vvey_weCt",
        "colab_type": "text"
      },
      "source": [
        "O objeto *`datetyme`* nos fornece atributos uteis para obtermos do marcador temporal o ano, o mês, o dia, e assim por diante."
      ]
    },
    {
      "cell_type": "code",
      "metadata": {
        "id": "JKwxihr9Fgnc",
        "colab_type": "code",
        "colab": {},
        "outputId": "b1e2a95c-804e-46cf-ba7d-245aba0aedef"
      },
      "source": [
        "dt_now.year, dt_now.month, dt_now.day, dt_now.hour, dt_now.minute, dt_now.second"
      ],
      "execution_count": null,
      "outputs": [
        {
          "output_type": "execute_result",
          "data": {
            "text/plain": [
              "(2020, 7, 7, 23, 18, 54)"
            ]
          },
          "metadata": {
            "tags": []
          },
          "execution_count": 4
        }
      ]
    },
    {
      "cell_type": "markdown",
      "metadata": {
        "id": "917_HLkXxJ_r",
        "colab_type": "text"
      },
      "source": [
        "Objetos *`datetime`* dão suporte a cálculos símples usando intervalos de tempo (timedelta). Por exemplo, podemos criar um intervalo de tempo de 100 dias usando a função **.`timedelta`** e realizarmos operações de comparação e subtração com objetos datetime."
      ]
    },
    {
      "cell_type": "code",
      "metadata": {
        "id": "m7wviNHCFgnj",
        "colab_type": "code",
        "colab": {},
        "outputId": "ee90dd2b-3fce-468f-ef05-e8facadbc6ad"
      },
      "source": [
        "delta = dt.timedelta(days = 100) # Intervalo de tempo de 100 dias.\n",
        "delta"
      ],
      "execution_count": null,
      "outputs": [
        {
          "output_type": "execute_result",
          "data": {
            "text/plain": [
              "datetime.timedelta(100)"
            ]
          },
          "metadata": {
            "tags": []
          },
          "execution_count": 5
        }
      ]
    },
    {
      "cell_type": "code",
      "metadata": {
        "id": "rSqGo3wJFgnq",
        "colab_type": "code",
        "colab": {}
      },
      "source": [
        "today = dt.date.today()"
      ],
      "execution_count": null,
      "outputs": []
    },
    {
      "cell_type": "code",
      "metadata": {
        "id": "1nURPhLEFgnw",
        "colab_type": "code",
        "colab": {},
        "outputId": "07d8b683-438c-4737-9621-8585751bb023"
      },
      "source": [
        "today - delta # Acha a data de 100 dias atrás"
      ],
      "execution_count": null,
      "outputs": [
        {
          "output_type": "execute_result",
          "data": {
            "text/plain": [
              "datetime.date(2020, 3, 29)"
            ]
          },
          "metadata": {
            "tags": []
          },
          "execution_count": 7
        }
      ]
    },
    {
      "cell_type": "code",
      "metadata": {
        "id": "FznR3aUlFgn2",
        "colab_type": "code",
        "colab": {},
        "outputId": "5ddc1b15-3332-4464-8f3b-d9527445934b"
      },
      "source": [
        "today > today - delta"
      ],
      "execution_count": null,
      "outputs": [
        {
          "output_type": "execute_result",
          "data": {
            "text/plain": [
              "True"
            ]
          },
          "metadata": {
            "tags": []
          },
          "execution_count": 8
        }
      ]
    },
    {
      "cell_type": "markdown",
      "metadata": {
        "collapsed": true,
        "id": "7HT1LkMhFgn6",
        "colab_type": "text"
      },
      "source": [
        "# Linguagem de Programação Python: Objetos e `map()`"
      ]
    },
    {
      "cell_type": "markdown",
      "metadata": {
        "id": "S2rCIW5XZ36Y",
        "colab_type": "text"
      },
      "source": [
        "Classes em Python são geradas usando a palavra chave **`class`**, e geralmente são nomeadas seguindo o padrão [Camel Case](https://https://pt.wikipedia.org/wiki/CamelCase). O escopo de uma classe consiste de todo o código que estiver identado dentro da mesma, podendo consistir de variáveis de classe (compartihada para toda instância da mesma) e **métodos**. Métodos são declarados da mesma maneira que funções, sendo a única diferença o parâmetro **`self`** que é necessário para acessar a instância/objeto da classe que está sendo usada no momento. Ao contrário de outras linguagens, não é necessário declarar variáveis de instância (isto é, atributos) em classes do Python, podemos simplesmente criá-las dentro dos métodos através do atributo **`self`** ou usando o próprio objeto."
      ]
    },
    {
      "cell_type": "code",
      "metadata": {
        "id": "tzfaCcrLFgn7",
        "colab_type": "code",
        "colab": {}
      },
      "source": [
        "class Person:\n",
        "    ''' Esse é um exemplo de classe do Python. '''\n",
        "\n",
        "    department = 'School of information' # Esta é uma variável de classe.\n",
        "    \n",
        "    def set_name(self, new_name): # Este é um método da classe.\n",
        "        self.name = new_name  # Esta é uma variável de instância.\n",
        "    def set_location(self, new_location):\n",
        "        self.location = new_location"
      ],
      "execution_count": 1,
      "outputs": []
    },
    {
      "cell_type": "markdown",
      "metadata": {
        "id": "gcr6vqoFjtf7",
        "colab_type": "text"
      },
      "source": [
        "Há duas coisas importantes sobre classes e objetos no Python que podemos notar no exemplo acima. A primeira é que, ao contrário de linguagens como Java ou C++, não existem variáveis, métodos ou atributos privados e protegidos no Python, ou seja, ao instanciar um objeto de uma classe você terá acesso completo aos métodos e variáveis da mesma. E a segunda é que construtores explícitos não são necessários em classes do Python, mas podem ser adicionados usando o método **`__init__()`**."
      ]
    },
    {
      "cell_type": "code",
      "metadata": {
        "id": "3tDPNLGqgl3Z",
        "colab_type": "code",
        "colab": {
          "base_uri": "https://localhost:8080/",
          "height": 68
        },
        "outputId": "30997f89-a829-4e84-ffad-010e75892419"
      },
      "source": [
        "person = Person() # É dessa maneira que instanciamos classes no Python.\n",
        "person.set_name(\"José Victor\")\n",
        "person.set_location('Duque de Caxias, Rio de Janeiro, Brasil')\n",
        "person.age = 25 # Um novo atributo criado usando o próprio objeto.\n",
        "print('Name: {}'.format(person.name))\n",
        "print('Location: {}'.format(person.location))\n",
        "print('Age: {} years old'.format(person.age))"
      ],
      "execution_count": 7,
      "outputs": [
        {
          "output_type": "stream",
          "text": [
            "Name: José Victor\n",
            "Location: Duque de Caxias, Rio de Janeiro, Brasil\n",
            "Age: 25 years old\n"
          ],
          "name": "stdout"
        }
      ]
    },
    {
      "cell_type": "markdown",
      "metadata": {
        "id": "iiEkQAlFmrMn",
        "colab_type": "text"
      },
      "source": [
        "**`map(function, iterable, ...)`** executa uma determinada função em cada elemento de um ou mais objetos iteráveis passados como parâmetro. `map()` é considerada uma das bases da [Programação Funcional](https://www.revista-programar.info/artigos/programacao-funcional-em-python/#:~:text=O%20paradigma%20funcional%20%C3%A9%20um,ser%204%20%2C%205%20ou%206%20.) no Python."
      ]
    },
    {
      "cell_type": "code",
      "metadata": {
        "id": "cQCuc43tFgoC",
        "colab_type": "code",
        "colab": {
          "base_uri": "https://localhost:8080/",
          "height": 34
        },
        "outputId": "2b6fd22f-8439-41b8-9c1b-a4296eeff846"
      },
      "source": [
        "store_1 = [10.00, 11.00, 12.34, 2.34]\n",
        "store_2 = [9.00, 11.10, 12.34, 2.01]\n",
        "cheapest = map(min, store_1, store_2)\n",
        "cheapest"
      ],
      "execution_count": 22,
      "outputs": [
        {
          "output_type": "execute_result",
          "data": {
            "text/plain": [
              "<map at 0x7fde2c086390>"
            ]
          },
          "metadata": {
            "tags": []
          },
          "execution_count": 22
        }
      ]
    },
    {
      "cell_type": "markdown",
      "metadata": {
        "id": "uEG5wvLYsOa3",
        "colab_type": "text"
      },
      "source": [
        "Como vemos acima, ao contrário do que normalmente se espera, `map()` retorna um objeto do tipo map, ou seja, no exemplo essa função não executa a função `min` nos iteráveis `store_1` e `store_2` até que seja requerido. Esse padrão de projeto do Python é chamado de [Lazy Evaluation](https://en.wikipedia.org/wiki/Lazy_evaluation), e isso nos permite realizar um gerenciamento de memória mais eficiente, mesmo para cálculos mais complexos."
      ]
    },
    {
      "cell_type": "markdown",
      "metadata": {
        "id": "bBUPaPBSujPB",
        "colab_type": "text"
      },
      "source": [
        "Objetos map funcionam de maneira similar a objetos iteráveis tais como listas e tuplas, e com isso podemos usar um loop `for` para iterar em todos os seus elementos."
      ]
    },
    {
      "cell_type": "code",
      "metadata": {
        "id": "7TtB21JUFgoH",
        "colab_type": "code",
        "colab": {
          "base_uri": "https://localhost:8080/",
          "height": 85
        },
        "outputId": "038d2f62-0ee2-484e-e806-11056e21bca2"
      },
      "source": [
        "for item in cheapest:\n",
        "    print(item)"
      ],
      "execution_count": 23,
      "outputs": [
        {
          "output_type": "stream",
          "text": [
            "9.0\n",
            "11.0\n",
            "12.34\n",
            "2.01\n"
          ],
          "name": "stdout"
        }
      ]
    },
    {
      "cell_type": "markdown",
      "metadata": {
        "id": "M8ypEE5wvFFB",
        "colab_type": "text"
      },
      "source": [
        "Também podemos converter o objeto map em uma lista usando a função **`list()`**."
      ]
    },
    {
      "cell_type": "code",
      "metadata": {
        "id": "dj0LXcZyvW9l",
        "colab_type": "code",
        "colab": {
          "base_uri": "https://localhost:8080/",
          "height": 34
        },
        "outputId": "a0192886-de5a-4e82-b09d-98ff9aa073b7"
      },
      "source": [
        "cheapest = map(min, store_1, store_2)\n",
        "list(cheapest)"
      ],
      "execution_count": 25,
      "outputs": [
        {
          "output_type": "execute_result",
          "data": {
            "text/plain": [
              "[9.0, 11.0, 12.34, 2.01]"
            ]
          },
          "metadata": {
            "tags": []
          },
          "execution_count": 25
        }
      ]
    },
    {
      "cell_type": "markdown",
      "metadata": {
        "id": "lAmczlr6FgoL",
        "colab_type": "text"
      },
      "source": [
        "# Linguagem de Programação Python: Lambda e Compreensão de Listas"
      ]
    },
    {
      "cell_type": "code",
      "metadata": {
        "id": "xVbCSYnSFgoL",
        "colab_type": "code",
        "colab": {}
      },
      "source": [
        "my_function = lambda a, b, c : a + b"
      ],
      "execution_count": null,
      "outputs": []
    },
    {
      "cell_type": "code",
      "metadata": {
        "id": "WNpjAMMgFgoP",
        "colab_type": "code",
        "colab": {},
        "outputId": "dcf09838-b033-4b06-9706-028c75a5a4ec"
      },
      "source": [
        "my_function(1, 2, 3)"
      ],
      "execution_count": null,
      "outputs": [
        {
          "output_type": "execute_result",
          "data": {
            "text/plain": [
              "3"
            ]
          },
          "metadata": {
            "tags": []
          },
          "execution_count": 5
        }
      ]
    },
    {
      "cell_type": "code",
      "metadata": {
        "id": "krHlrbCXFgoV",
        "colab_type": "code",
        "colab": {
          "base_uri": "https://localhost:8080/",
          "height": 34
        },
        "outputId": "b7762112-55a8-480c-a30c-2bd5821daecb"
      },
      "source": [
        "my_list = []\n",
        "for number in range(0, 1000):\n",
        "    if number % 2 == 0:\n",
        "        my_list.append(number)\n",
        "\n",
        "my_list[0:20]"
      ],
      "execution_count": null,
      "outputs": [
        {
          "output_type": "execute_result",
          "data": {
            "text/plain": [
              "[0, 2, 4, 6, 8, 10, 12, 14, 16, 18, 20, 22, 24, 26, 28, 30, 32, 34, 36, 38]"
            ]
          },
          "metadata": {
            "tags": []
          },
          "execution_count": 6
        }
      ]
    },
    {
      "cell_type": "code",
      "metadata": {
        "id": "ARCNasJmFgoa",
        "colab_type": "code",
        "colab": {
          "base_uri": "https://localhost:8080/",
          "height": 34
        },
        "outputId": "2ef48d59-c112-4f80-c904-14c3d4e7894e"
      },
      "source": [
        "my_list = [number for number in range(0, 1000) if number % 2 == 0]\n",
        "my_list[0:20]"
      ],
      "execution_count": null,
      "outputs": [
        {
          "output_type": "execute_result",
          "data": {
            "text/plain": [
              "[0, 2, 4, 6, 8, 10, 12, 14, 16, 18, 20, 22, 24, 26, 28, 30, 32, 34, 36, 38]"
            ]
          },
          "metadata": {
            "tags": []
          },
          "execution_count": 7
        }
      ]
    }
  ]
}