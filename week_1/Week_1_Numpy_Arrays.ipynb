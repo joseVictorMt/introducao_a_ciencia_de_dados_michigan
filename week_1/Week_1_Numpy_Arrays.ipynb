{
  "nbformat": 4,
  "nbformat_minor": 0,
  "metadata": {
    "kernelspec": {
      "display_name": "Python 3",
      "language": "python",
      "name": "python3"
    },
    "language_info": {
      "codemirror_mode": {
        "name": "ipython",
        "version": 3
      },
      "file_extension": ".py",
      "mimetype": "text/x-python",
      "name": "python",
      "nbconvert_exporter": "python",
      "pygments_lexer": "ipython3",
      "version": "3.6.2"
    },
    "colab": {
      "name": "Week_1_Numpy_Arrays.ipynb",
      "provenance": [],
      "collapsed_sections": [
        "7RAu6ZuVVF6q",
        "OPKUNYnqVF8B",
        "fHwz7oJyVF9b"
      ]
    }
  },
  "cells": [
    {
      "cell_type": "markdown",
      "metadata": {
        "id": "v2wiYLUVVF5V",
        "colab_type": "text"
      },
      "source": [
        "# NumPy"
      ]
    },
    {
      "cell_type": "markdown",
      "metadata": {
        "id": "mkbPlVUhWEX3",
        "colab_type": "text"
      },
      "source": [
        "Numpy é um pacote do Python que nos permite trabalhar com arrays (listas) e matrizes (listas multidimensionais) de forma eficiente, possuindo uma extensa coleção de funções matemáticas para trabalhar com essas duas estruturas."
      ]
    },
    {
      "cell_type": "code",
      "metadata": {
        "id": "aynaZfjSVF5Y",
        "colab_type": "code",
        "colab": {}
      },
      "source": [
        "import numpy as np"
      ],
      "execution_count": 1,
      "outputs": []
    },
    {
      "cell_type": "markdown",
      "metadata": {
        "id": "Di-nLonGVF5f",
        "colab_type": "text"
      },
      "source": [
        "## Criando Arrays"
      ]
    },
    {
      "cell_type": "markdown",
      "metadata": {
        "id": "cOFEr8_ZeMkv",
        "colab_type": "text"
      },
      "source": [
        "**`numpy.array(lista)`** nos permite converter um array tradicional passado como parâmetro para um array do NumPy, permitindo assim o uso de todos os recurso oferecidos pelo pacote."
      ]
    },
    {
      "cell_type": "code",
      "metadata": {
        "id": "_JIuoaHqVF5g",
        "colab_type": "code",
        "colab": {
          "base_uri": "https://localhost:8080/",
          "height": 34
        },
        "outputId": "e5b84771-ae1e-4677-9d27-eec13ed013c7"
      },
      "source": [
        "mylist = [1, 2, 3]\n",
        "x = np.array(mylist)\n",
        "x"
      ],
      "execution_count": 2,
      "outputs": [
        {
          "output_type": "execute_result",
          "data": {
            "text/plain": [
              "array([1, 2, 3])"
            ]
          },
          "metadata": {
            "tags": []
          },
          "execution_count": 2
        }
      ]
    },
    {
      "cell_type": "code",
      "metadata": {
        "id": "MqeY7Q44VF5l",
        "colab_type": "code",
        "colab": {
          "base_uri": "https://localhost:8080/",
          "height": 34
        },
        "outputId": "f18b2818-26a4-4df8-dbbd-1d019a60635a"
      },
      "source": [
        "y = np.array([1, 2, 3])\n",
        "y"
      ],
      "execution_count": 3,
      "outputs": [
        {
          "output_type": "execute_result",
          "data": {
            "text/plain": [
              "array([1, 2, 3])"
            ]
          },
          "metadata": {
            "tags": []
          },
          "execution_count": 3
        }
      ]
    },
    {
      "cell_type": "code",
      "metadata": {
        "id": "I0-xZIueVF5p",
        "colab_type": "code",
        "colab": {
          "base_uri": "https://localhost:8080/",
          "height": 51
        },
        "outputId": "6ef4f8dc-04e6-46b3-9a9d-fa00f26e4a29"
      },
      "source": [
        "# Passando como parâmetro um array multidimensional.\n",
        "m = np.array([[7, 8, 9], [10, 11, 12]])\n",
        "m"
      ],
      "execution_count": 4,
      "outputs": [
        {
          "output_type": "execute_result",
          "data": {
            "text/plain": [
              "array([[ 7,  8,  9],\n",
              "       [10, 11, 12]])"
            ]
          },
          "metadata": {
            "tags": []
          },
          "execution_count": 4
        }
      ]
    },
    {
      "cell_type": "markdown",
      "metadata": {
        "id": "hO867ez6fX-q",
        "colab_type": "text"
      },
      "source": [
        "**`.shape`** é um atributo que retorna as dimensões do array."
      ]
    },
    {
      "cell_type": "code",
      "metadata": {
        "id": "FfyVUyWcVF5u",
        "colab_type": "code",
        "colab": {
          "base_uri": "https://localhost:8080/",
          "height": 34
        },
        "outputId": "22a348fb-be49-4501-cae0-f69f831d1eb8"
      },
      "source": [
        "m.shape"
      ],
      "execution_count": 5,
      "outputs": [
        {
          "output_type": "execute_result",
          "data": {
            "text/plain": [
              "(2, 3)"
            ]
          },
          "metadata": {
            "tags": []
          },
          "execution_count": 5
        }
      ]
    },
    {
      "cell_type": "markdown",
      "metadata": {
        "id": "aoojuXdHfxt4",
        "colab_type": "text"
      },
      "source": [
        "**`numpy.arrange(início, fim, tamanho_do_passo)`** gera um array da numpy com os valores do intervalo entre início e fim-1 espaçados pelo tamanho do passo."
      ]
    },
    {
      "cell_type": "code",
      "metadata": {
        "id": "TSF2CO6-VF5y",
        "colab_type": "code",
        "colab": {
          "base_uri": "https://localhost:8080/",
          "height": 34
        },
        "outputId": "2d50a9e8-8edc-4da9-a9a2-84ea0ba7c4a4"
      },
      "source": [
        "n = np.arange(0, 30, 2)\n",
        "n"
      ],
      "execution_count": 6,
      "outputs": [
        {
          "output_type": "execute_result",
          "data": {
            "text/plain": [
              "array([ 0,  2,  4,  6,  8, 10, 12, 14, 16, 18, 20, 22, 24, 26, 28])"
            ]
          },
          "metadata": {
            "tags": []
          },
          "execution_count": 6
        }
      ]
    },
    {
      "cell_type": "markdown",
      "metadata": {
        "id": "-T8Pl4CBgbPz",
        "colab_type": "text"
      },
      "source": [
        "**`.reshape(m, n)`** retorna uma cópia do array com as dimensões ajustadas para m X n."
      ]
    },
    {
      "cell_type": "code",
      "metadata": {
        "id": "3dUjtnp3VF53",
        "colab_type": "code",
        "colab": {
          "base_uri": "https://localhost:8080/",
          "height": 68
        },
        "outputId": "d23f3052-6cd2-4cda-9e52-7bbab9211377"
      },
      "source": [
        "n = n.reshape(3, 5) # Alterou as dimensões de n de 1 X 15 para 3 X 5.\n",
        "n"
      ],
      "execution_count": 7,
      "outputs": [
        {
          "output_type": "execute_result",
          "data": {
            "text/plain": [
              "array([[ 0,  2,  4,  6,  8],\n",
              "       [10, 12, 14, 16, 18],\n",
              "       [20, 22, 24, 26, 28]])"
            ]
          },
          "metadata": {
            "tags": []
          },
          "execution_count": 7
        }
      ]
    },
    {
      "cell_type": "markdown",
      "metadata": {
        "id": "a7z2fzXlu55Z",
        "colab_type": "text"
      },
      "source": [
        "**`np.linspace(a, b, n)`** gera um array com **n** elementos entre **a** e **b**, distribuindo os valores igualmente."
      ]
    },
    {
      "cell_type": "code",
      "metadata": {
        "id": "IxvOr5cYVF58",
        "colab_type": "code",
        "colab": {
          "base_uri": "https://localhost:8080/",
          "height": 34
        },
        "outputId": "579ff6b9-21c6-41f3-cd78-561f0347f95d"
      },
      "source": [
        "o = np.linspace(0, 4, 9) # Um array de 9 números entre 0 e quatro.\n",
        "o"
      ],
      "execution_count": 8,
      "outputs": [
        {
          "output_type": "execute_result",
          "data": {
            "text/plain": [
              "array([0. , 0.5, 1. , 1.5, 2. , 2.5, 3. , 3.5, 4. ])"
            ]
          },
          "metadata": {
            "tags": []
          },
          "execution_count": 8
        }
      ]
    },
    {
      "cell_type": "markdown",
      "metadata": {
        "id": "ss1uJmfEwSdN",
        "colab_type": "text"
      },
      "source": [
        "**`.resize(m, n)`** Altera as dimensões de um array para m X n."
      ]
    },
    {
      "cell_type": "code",
      "metadata": {
        "id": "Z-RkBzwfVF6A",
        "colab_type": "code",
        "colab": {
          "base_uri": "https://localhost:8080/",
          "height": 68
        },
        "outputId": "0240ac61-9b2c-4edf-eec5-6d4db487a03a"
      },
      "source": [
        "o.resize(3, 3) # O array o passou de 0 X 9 para 3 X 3.\n",
        "o"
      ],
      "execution_count": 9,
      "outputs": [
        {
          "output_type": "execute_result",
          "data": {
            "text/plain": [
              "array([[0. , 0.5, 1. ],\n",
              "       [1.5, 2. , 2.5],\n",
              "       [3. , 3.5, 4. ]])"
            ]
          },
          "metadata": {
            "tags": []
          },
          "execution_count": 9
        }
      ]
    },
    {
      "cell_type": "markdown",
      "metadata": {
        "id": "cu5sj95Hw09b",
        "colab_type": "text"
      },
      "source": [
        "**`numpy.ones(dimensões)`** cria um array de uns (em ponto flutuante por padrão)."
      ]
    },
    {
      "cell_type": "code",
      "metadata": {
        "id": "EQQ7wkHKVF6E",
        "colab_type": "code",
        "colab": {
          "base_uri": "https://localhost:8080/",
          "height": 68
        },
        "outputId": "fdc3cd8b-470e-4bc1-cc77-1916ba14a848"
      },
      "source": [
        "np.ones((3, 2)) # Gera um array de uns com dimensões 3 X 2."
      ],
      "execution_count": 12,
      "outputs": [
        {
          "output_type": "execute_result",
          "data": {
            "text/plain": [
              "array([[1., 1.],\n",
              "       [1., 1.],\n",
              "       [1., 1.]])"
            ]
          },
          "metadata": {
            "tags": []
          },
          "execution_count": 12
        }
      ]
    },
    {
      "cell_type": "code",
      "metadata": {
        "id": "GXMHMvh8VF6d",
        "colab_type": "code",
        "colab": {
          "base_uri": "https://localhost:8080/",
          "height": 51
        },
        "outputId": "33463cca-9578-478e-84f4-c4c3e7bd4fc8"
      },
      "source": [
        "p = np.ones([2, 3], int) # Array de 1's inteiros com dimensões 2 X 3.\n",
        "p"
      ],
      "execution_count": 18,
      "outputs": [
        {
          "output_type": "execute_result",
          "data": {
            "text/plain": [
              "array([[1, 1, 1],\n",
              "       [1, 1, 1]])"
            ]
          },
          "metadata": {
            "tags": []
          },
          "execution_count": 18
        }
      ]
    },
    {
      "cell_type": "markdown",
      "metadata": {
        "id": "oTTkALAixUqh",
        "colab_type": "text"
      },
      "source": [
        "**`numpy.zeros((dimensões))`** cria um array de zeros (em ponto flutuante por padrão)."
      ]
    },
    {
      "cell_type": "code",
      "metadata": {
        "id": "NvBETIGxVF6I",
        "colab_type": "code",
        "colab": {
          "base_uri": "https://localhost:8080/",
          "height": 51
        },
        "outputId": "69e8c1da-d632-4b62-aab2-aa5e72865fe1"
      },
      "source": [
        "np.zeros((2, 3)) # Gera um array de zeros com dimensões 2 X 3."
      ],
      "execution_count": 13,
      "outputs": [
        {
          "output_type": "execute_result",
          "data": {
            "text/plain": [
              "array([[0., 0., 0.],\n",
              "       [0., 0., 0.]])"
            ]
          },
          "metadata": {
            "tags": []
          },
          "execution_count": 13
        }
      ]
    },
    {
      "cell_type": "code",
      "metadata": {
        "id": "MQ2GAui_z4Ks",
        "colab_type": "code",
        "colab": {
          "base_uri": "https://localhost:8080/",
          "height": 68
        },
        "outputId": "7282e2fe-d9bd-4c12-8c5a-d4a3a51622cf"
      },
      "source": [
        "np.zeros([3, 2], int) # Array de 0's inteiros com dimensões 3 X 2."
      ],
      "execution_count": 19,
      "outputs": [
        {
          "output_type": "execute_result",
          "data": {
            "text/plain": [
              "array([[0, 0],\n",
              "       [0, 0],\n",
              "       [0, 0]])"
            ]
          },
          "metadata": {
            "tags": []
          },
          "execution_count": 19
        }
      ]
    },
    {
      "cell_type": "markdown",
      "metadata": {
        "id": "f6YotoY3xp0L",
        "colab_type": "text"
      },
      "source": [
        "**numpy.eye(dimensão)** cria o array de uma matriz identidade."
      ]
    },
    {
      "cell_type": "code",
      "metadata": {
        "id": "dvyfH4GAVF6N",
        "colab_type": "code",
        "colab": {
          "base_uri": "https://localhost:8080/",
          "height": 68
        },
        "outputId": "ecf669bc-d592-49c6-8b2d-c9526655e54e"
      },
      "source": [
        "np.eye(3) # Gera uma matriz identidade 3 X 3."
      ],
      "execution_count": 14,
      "outputs": [
        {
          "output_type": "execute_result",
          "data": {
            "text/plain": [
              "array([[1., 0., 0.],\n",
              "       [0., 1., 0.],\n",
              "       [0., 0., 1.]])"
            ]
          },
          "metadata": {
            "tags": []
          },
          "execution_count": 14
        }
      ]
    },
    {
      "cell_type": "markdown",
      "metadata": {
        "id": "QTOYe-0RyLBS",
        "colab_type": "text"
      },
      "source": [
        "**`numpy.diag(array)`** cria uma matriz diagonal com os valores do array passado como parâmetro."
      ]
    },
    {
      "cell_type": "code",
      "metadata": {
        "id": "vFIhSiflVF6R",
        "colab_type": "code",
        "colab": {
          "base_uri": "https://localhost:8080/",
          "height": 68
        },
        "outputId": "80a7e135-e7fb-44a7-e568-3c0a8c8cc00d"
      },
      "source": [
        "y = [1, 2, 3]\n",
        "np.diag(y)"
      ],
      "execution_count": 15,
      "outputs": [
        {
          "output_type": "execute_result",
          "data": {
            "text/plain": [
              "array([[1, 0, 0],\n",
              "       [0, 2, 0],\n",
              "       [0, 0, 3]])"
            ]
          },
          "metadata": {
            "tags": []
          },
          "execution_count": 15
        }
      ]
    },
    {
      "cell_type": "markdown",
      "metadata": {
        "id": "PsiYESK_ynMW",
        "colab_type": "text"
      },
      "source": [
        "Podemos gerar um array de números repetidos usando o operador *."
      ]
    },
    {
      "cell_type": "code",
      "metadata": {
        "id": "DQiVDx2vVF6V",
        "colab_type": "code",
        "colab": {},
        "outputId": "b1b608f0-d169-4ca4-d149-83ca706e7b5a"
      },
      "source": [
        "# Essa é uma forma de gerar um array de valores repetidos.\n",
        "np.array([1, 2, 3] * 3)"
      ],
      "execution_count": null,
      "outputs": [
        {
          "output_type": "execute_result",
          "data": {
            "text/plain": [
              "array([1, 2, 3, 1, 2, 3, 1, 2, 3])"
            ]
          },
          "metadata": {
            "tags": []
          },
          "execution_count": 17
        }
      ]
    },
    {
      "cell_type": "markdown",
      "metadata": {
        "id": "OJp04r39y4yF",
        "colab_type": "text"
      },
      "source": [
        "**`numpy.repeat(array, repetições)`** cria um array de números repetidos. Ao contrário do exemplo acima, a ordem dos repetidos é de acordo com os elementos originais."
      ]
    },
    {
      "cell_type": "code",
      "metadata": {
        "id": "x10MLmOSVF6Z",
        "colab_type": "code",
        "colab": {
          "base_uri": "https://localhost:8080/",
          "height": 34
        },
        "outputId": "8b847401-9668-4268-b609-600c0ff356e6"
      },
      "source": [
        "np.repeat([1, 2, 3], 3)"
      ],
      "execution_count": 16,
      "outputs": [
        {
          "output_type": "execute_result",
          "data": {
            "text/plain": [
              "array([1, 1, 1, 2, 2, 2, 3, 3, 3])"
            ]
          },
          "metadata": {
            "tags": []
          },
          "execution_count": 16
        }
      ]
    },
    {
      "cell_type": "markdown",
      "metadata": {
        "id": "VQvfWgKh0gwM",
        "colab_type": "text"
      },
      "source": [
        "**`numpy.vstack(lista de arrays)`** cria um array que enpilha verticalmente a lista de arrays passados."
      ]
    },
    {
      "cell_type": "code",
      "metadata": {
        "id": "Iy89g3J8VF6h",
        "colab_type": "code",
        "colab": {
          "base_uri": "https://localhost:8080/",
          "height": 85
        },
        "outputId": "489d60e2-434a-4d67-afc7-a79d95e65955"
      },
      "source": [
        "np.vstack([p, p*2])"
      ],
      "execution_count": 20,
      "outputs": [
        {
          "output_type": "execute_result",
          "data": {
            "text/plain": [
              "array([[1, 1, 1],\n",
              "       [1, 1, 1],\n",
              "       [2, 2, 2],\n",
              "       [2, 2, 2]])"
            ]
          },
          "metadata": {
            "tags": []
          },
          "execution_count": 20
        }
      ]
    },
    {
      "cell_type": "markdown",
      "metadata": {
        "id": "RInFMyMY08PL",
        "colab_type": "text"
      },
      "source": [
        "**numpy.hstack(lista de arrays)** cria um array que empilha horizontalmente a lista de arrays passados."
      ]
    },
    {
      "cell_type": "code",
      "metadata": {
        "id": "rxNRYKr0VF6l",
        "colab_type": "code",
        "colab": {
          "base_uri": "https://localhost:8080/",
          "height": 51
        },
        "outputId": "689a7155-49a8-43fb-eeff-76308c783332"
      },
      "source": [
        "np.hstack([p, p*2])"
      ],
      "execution_count": 21,
      "outputs": [
        {
          "output_type": "execute_result",
          "data": {
            "text/plain": [
              "array([[1, 1, 1, 2, 2, 2],\n",
              "       [1, 1, 1, 2, 2, 2]])"
            ]
          },
          "metadata": {
            "tags": []
          },
          "execution_count": 21
        }
      ]
    },
    {
      "cell_type": "markdown",
      "metadata": {
        "id": "7RAu6ZuVVF6q",
        "colab_type": "text"
      },
      "source": [
        "## Operações"
      ]
    },
    {
      "cell_type": "code",
      "metadata": {
        "id": "AcoMqAwbVF6r",
        "colab_type": "code",
        "colab": {},
        "outputId": "214ecf6a-d632-409f-e847-9d2630c7dcf8"
      },
      "source": [
        "x + y"
      ],
      "execution_count": null,
      "outputs": [
        {
          "output_type": "execute_result",
          "data": {
            "text/plain": [
              "array([2, 4, 6])"
            ]
          },
          "metadata": {
            "tags": []
          },
          "execution_count": 22
        }
      ]
    },
    {
      "cell_type": "code",
      "metadata": {
        "id": "Nn-7cZDNVF6u",
        "colab_type": "code",
        "colab": {},
        "outputId": "13c8b607-ca86-4904-8584-a0ec0902b740"
      },
      "source": [
        "x - y"
      ],
      "execution_count": null,
      "outputs": [
        {
          "output_type": "execute_result",
          "data": {
            "text/plain": [
              "array([0, 0, 0])"
            ]
          },
          "metadata": {
            "tags": []
          },
          "execution_count": 23
        }
      ]
    },
    {
      "cell_type": "code",
      "metadata": {
        "id": "v_g89SFkVF6y",
        "colab_type": "code",
        "colab": {},
        "outputId": "b121a398-dce4-4e45-d8a6-d183c0f0b4e3"
      },
      "source": [
        "x * y"
      ],
      "execution_count": null,
      "outputs": [
        {
          "output_type": "execute_result",
          "data": {
            "text/plain": [
              "array([1, 4, 9])"
            ]
          },
          "metadata": {
            "tags": []
          },
          "execution_count": 24
        }
      ]
    },
    {
      "cell_type": "code",
      "metadata": {
        "id": "KpzszcIjVF62",
        "colab_type": "code",
        "colab": {},
        "outputId": "f6697d14-0524-47c8-95b6-37bf1f8e4044"
      },
      "source": [
        "x / y"
      ],
      "execution_count": null,
      "outputs": [
        {
          "output_type": "execute_result",
          "data": {
            "text/plain": [
              "array([ 1.,  1.,  1.])"
            ]
          },
          "metadata": {
            "tags": []
          },
          "execution_count": 25
        }
      ]
    },
    {
      "cell_type": "code",
      "metadata": {
        "id": "i1Zj4xDvVF65",
        "colab_type": "code",
        "colab": {},
        "outputId": "cc68d45f-8a23-4391-9128-d653d9fbf788"
      },
      "source": [
        "x ** 2"
      ],
      "execution_count": null,
      "outputs": [
        {
          "output_type": "execute_result",
          "data": {
            "text/plain": [
              "array([1, 4, 9])"
            ]
          },
          "metadata": {
            "tags": []
          },
          "execution_count": 26
        }
      ]
    },
    {
      "cell_type": "code",
      "metadata": {
        "id": "xjnzcURMVF69",
        "colab_type": "code",
        "colab": {},
        "outputId": "40022e93-4d49-4fe4-fd6d-67a8dc5a321a"
      },
      "source": [
        "# Calcula o produto escalar entre dois vetores (dot product).\n",
        "x.dot(y)"
      ],
      "execution_count": null,
      "outputs": [
        {
          "output_type": "execute_result",
          "data": {
            "text/plain": [
              "14"
            ]
          },
          "metadata": {
            "tags": []
          },
          "execution_count": 27
        }
      ]
    },
    {
      "cell_type": "code",
      "metadata": {
        "id": "3vXPxSi2VF7A",
        "colab_type": "code",
        "colab": {},
        "outputId": "aa89bced-7460-4bea-cabd-0245c645832d"
      },
      "source": [
        "z = np.array([y, y**2])\n",
        "z"
      ],
      "execution_count": null,
      "outputs": [
        {
          "output_type": "execute_result",
          "data": {
            "text/plain": [
              "array([[1, 2, 3],\n",
              "       [1, 4, 9]])"
            ]
          },
          "metadata": {
            "tags": []
          },
          "execution_count": 28
        }
      ]
    },
    {
      "cell_type": "code",
      "metadata": {
        "id": "mXNfBvGpVF7G",
        "colab_type": "code",
        "colab": {},
        "outputId": "96d63c6c-28ba-43d6-cd3b-86c7cc0c4bdb"
      },
      "source": [
        "z.shape"
      ],
      "execution_count": null,
      "outputs": [
        {
          "output_type": "execute_result",
          "data": {
            "text/plain": [
              "(2, 3)"
            ]
          },
          "metadata": {
            "tags": []
          },
          "execution_count": 29
        }
      ]
    },
    {
      "cell_type": "code",
      "metadata": {
        "id": "OSzDfMMiVF7T",
        "colab_type": "code",
        "colab": {},
        "outputId": "5f14678b-9ceb-42ce-a68d-991d13d86411"
      },
      "source": [
        "# Esse método retorna a transposta do array.\n",
        "z.T"
      ],
      "execution_count": null,
      "outputs": [
        {
          "output_type": "execute_result",
          "data": {
            "text/plain": [
              "array([[1, 1],\n",
              "       [2, 4],\n",
              "       [3, 9]])"
            ]
          },
          "metadata": {
            "tags": []
          },
          "execution_count": 30
        }
      ]
    },
    {
      "cell_type": "code",
      "metadata": {
        "id": "WqMv6FQTVF7X",
        "colab_type": "code",
        "colab": {},
        "outputId": "a3105499-b750-41ea-9afc-e39bd3d5d3d2"
      },
      "source": [
        "z.T.shape"
      ],
      "execution_count": null,
      "outputs": [
        {
          "output_type": "execute_result",
          "data": {
            "text/plain": [
              "(3, 2)"
            ]
          },
          "metadata": {
            "tags": []
          },
          "execution_count": 31
        }
      ]
    },
    {
      "cell_type": "code",
      "metadata": {
        "id": "98H-CLfrVF7b",
        "colab_type": "code",
        "colab": {},
        "outputId": "2c1d0d11-902a-400f-ada2-e7fead432da4"
      },
      "source": [
        "# Retorna os tipos de valores que o array tem.\n",
        "z.dtype"
      ],
      "execution_count": null,
      "outputs": [
        {
          "output_type": "execute_result",
          "data": {
            "text/plain": [
              "dtype('int64')"
            ]
          },
          "metadata": {
            "tags": []
          },
          "execution_count": 32
        }
      ]
    },
    {
      "cell_type": "code",
      "metadata": {
        "id": "K8hbqA6kVF7f",
        "colab_type": "code",
        "colab": {},
        "outputId": "610b1200-c89b-4bb3-aff7-178bf6ec473c"
      },
      "source": [
        "# Converte o tipo dos valores do array para o do parâmetro fornecido.\n",
        "z = z.astype('f')\n",
        "z.dtype"
      ],
      "execution_count": null,
      "outputs": [
        {
          "output_type": "execute_result",
          "data": {
            "text/plain": [
              "dtype('float32')"
            ]
          },
          "metadata": {
            "tags": []
          },
          "execution_count": 33
        }
      ]
    },
    {
      "cell_type": "code",
      "metadata": {
        "id": "ZeTiljD9VF7l",
        "colab_type": "code",
        "colab": {}
      },
      "source": [
        "a = np.array([-4, -2, 1, 3, 5])"
      ],
      "execution_count": null,
      "outputs": []
    },
    {
      "cell_type": "code",
      "metadata": {
        "id": "GkZUTA8SVF7p",
        "colab_type": "code",
        "colab": {},
        "outputId": "f6af62c1-18d9-4104-afd2-b0cdc1ad676a"
      },
      "source": [
        "# Retorna a soma de todos os elemntos do array.\n",
        "a.sum()"
      ],
      "execution_count": null,
      "outputs": [
        {
          "output_type": "execute_result",
          "data": {
            "text/plain": [
              "3"
            ]
          },
          "metadata": {
            "tags": []
          },
          "execution_count": 35
        }
      ]
    },
    {
      "cell_type": "code",
      "metadata": {
        "id": "k-3NBjx3VF7s",
        "colab_type": "code",
        "colab": {},
        "outputId": "19a68385-6da8-4028-f594-05d5a3874de0"
      },
      "source": [
        "# Retorna o valor máximo do array.\n",
        "a.max()"
      ],
      "execution_count": null,
      "outputs": [
        {
          "output_type": "execute_result",
          "data": {
            "text/plain": [
              "5"
            ]
          },
          "metadata": {
            "tags": []
          },
          "execution_count": 36
        }
      ]
    },
    {
      "cell_type": "code",
      "metadata": {
        "id": "gRJ8X1WvVF7v",
        "colab_type": "code",
        "colab": {},
        "outputId": "62041159-8f06-4b47-fe73-ec6a58d2d5d7"
      },
      "source": [
        "# Retorna o valor mínimo do array.\n",
        "a.min()"
      ],
      "execution_count": null,
      "outputs": [
        {
          "output_type": "execute_result",
          "data": {
            "text/plain": [
              "-4"
            ]
          },
          "metadata": {
            "tags": []
          },
          "execution_count": 37
        }
      ]
    },
    {
      "cell_type": "code",
      "metadata": {
        "id": "W5UmDQHHVF70",
        "colab_type": "code",
        "colab": {},
        "outputId": "df90b62c-f075-4333-dd0c-450aec9b3ac1"
      },
      "source": [
        "# Retorna a média dos valores do array.\n",
        "a.mean()"
      ],
      "execution_count": null,
      "outputs": [
        {
          "output_type": "execute_result",
          "data": {
            "text/plain": [
              "0.59999999999999998"
            ]
          },
          "metadata": {
            "tags": []
          },
          "execution_count": 38
        }
      ]
    },
    {
      "cell_type": "code",
      "metadata": {
        "id": "MXDh5LhwVF73",
        "colab_type": "code",
        "colab": {},
        "outputId": "53949881-f7ba-4002-bb31-de16401145f7"
      },
      "source": [
        "# Retorna o desvio padrão dos valores do array.\n",
        "a.std()"
      ],
      "execution_count": null,
      "outputs": [
        {
          "output_type": "execute_result",
          "data": {
            "text/plain": [
              "3.2619012860600183"
            ]
          },
          "metadata": {
            "tags": []
          },
          "execution_count": 39
        }
      ]
    },
    {
      "cell_type": "code",
      "metadata": {
        "id": "Pk8OKbbLVF76",
        "colab_type": "code",
        "colab": {},
        "outputId": "e5ff732f-6c99-4fdc-de7b-6b32da006643"
      },
      "source": [
        "# Retorna o índice (posição) do valor máximo do array.\n",
        "a.argmax()"
      ],
      "execution_count": null,
      "outputs": [
        {
          "output_type": "execute_result",
          "data": {
            "text/plain": [
              "4"
            ]
          },
          "metadata": {
            "tags": []
          },
          "execution_count": 40
        }
      ]
    },
    {
      "cell_type": "code",
      "metadata": {
        "id": "xm61tTw6VF7-",
        "colab_type": "code",
        "colab": {},
        "outputId": "4e5b2b85-e424-4f2a-d811-7aa7c89f3510"
      },
      "source": [
        "# Retorna o índice (posição) do valor mínimo do array.\n",
        "a.argmin()"
      ],
      "execution_count": null,
      "outputs": [
        {
          "output_type": "execute_result",
          "data": {
            "text/plain": [
              "0"
            ]
          },
          "metadata": {
            "tags": []
          },
          "execution_count": 41
        }
      ]
    },
    {
      "cell_type": "markdown",
      "metadata": {
        "id": "OPKUNYnqVF8B",
        "colab_type": "text"
      },
      "source": [
        "## Indexing / Slicing"
      ]
    },
    {
      "cell_type": "code",
      "metadata": {
        "id": "XnTEhiH7VF8C",
        "colab_type": "code",
        "colab": {},
        "outputId": "57d1e9b6-6acb-4b19-d327-063686ddcbd7"
      },
      "source": [
        "s = np.arange(13)**2\n",
        "s"
      ],
      "execution_count": null,
      "outputs": [
        {
          "output_type": "execute_result",
          "data": {
            "text/plain": [
              "array([  0,   1,   4,   9,  16,  25,  36,  49,  64,  81, 100, 121, 144])"
            ]
          },
          "metadata": {
            "tags": []
          },
          "execution_count": 42
        }
      ]
    },
    {
      "cell_type": "code",
      "metadata": {
        "id": "LBXfXysbVF8F",
        "colab_type": "code",
        "colab": {},
        "outputId": "2f878df9-3c40-4679-d94d-0fd5c6d93c99"
      },
      "source": [
        "# Slicing usa o notação : para obter um intervalo de valores.\n",
        "# Os parâmetros são o índice de partida e o índice de parada.\n",
        "s[0], s[4], s[0:3]"
      ],
      "execution_count": null,
      "outputs": [
        {
          "output_type": "execute_result",
          "data": {
            "text/plain": [
              "(0, 16, array([0, 1, 4]))"
            ]
          },
          "metadata": {
            "tags": []
          },
          "execution_count": 43
        }
      ]
    },
    {
      "cell_type": "code",
      "metadata": {
        "id": "fTtul93hVF8J",
        "colab_type": "code",
        "colab": {},
        "outputId": "cf1e5b54-2d97-4c1b-9ac4-e77d81a34e81"
      },
      "source": [
        "# Aqui pegamos os valores entre o índice 1 e o 5 (exclusive).\n",
        "s[1:5]"
      ],
      "execution_count": null,
      "outputs": [
        {
          "output_type": "execute_result",
          "data": {
            "text/plain": [
              "array([ 1,  4,  9, 16])"
            ]
          },
          "metadata": {
            "tags": []
          },
          "execution_count": 44
        }
      ]
    },
    {
      "cell_type": "code",
      "metadata": {
        "id": "3BWMzmM-VF8O",
        "colab_type": "code",
        "colab": {},
        "outputId": "136a3265-3ad4-4b71-d5d2-814b783b3179"
      },
      "source": [
        "# Também podemos usar números negativos para pegar os valores\n",
        "# a partir da outra ponta do array.\n",
        "s[-4:]"
      ],
      "execution_count": null,
      "outputs": [
        {
          "output_type": "execute_result",
          "data": {
            "text/plain": [
              "array([ 81, 100, 121, 144])"
            ]
          },
          "metadata": {
            "tags": []
          },
          "execution_count": 45
        }
      ]
    },
    {
      "cell_type": "code",
      "metadata": {
        "id": "NcqI44x7VF8T",
        "colab_type": "code",
        "colab": {},
        "outputId": "da0b129d-bb2d-41be-a03e-3de76cb0fda4"
      },
      "source": [
        "# O terceiro parâmetro é a quantidade de passos.\n",
        "# No exemplo abaixo estamos indo da posição -5 (8) até o início de 2 em 2 de trás para frente.\n",
        "s[-5::-2]"
      ],
      "execution_count": null,
      "outputs": [
        {
          "output_type": "execute_result",
          "data": {
            "text/plain": [
              "array([64, 36, 16,  4,  0])"
            ]
          },
          "metadata": {
            "tags": []
          },
          "execution_count": 46
        }
      ]
    },
    {
      "cell_type": "code",
      "metadata": {
        "id": "jpIYdA_IVF8Z",
        "colab_type": "code",
        "colab": {},
        "outputId": "1c069b83-135a-4f71-e3c1-63f60de04b93"
      },
      "source": [
        "r = np.arange(36)\n",
        "r.resize((6, 6))\n",
        "r"
      ],
      "execution_count": null,
      "outputs": [
        {
          "output_type": "execute_result",
          "data": {
            "text/plain": [
              "array([[ 0,  1,  2,  3,  4,  5],\n",
              "       [ 6,  7,  8,  9, 10, 11],\n",
              "       [12, 13, 14, 15, 16, 17],\n",
              "       [18, 19, 20, 21, 22, 23],\n",
              "       [24, 25, 26, 27, 28, 29],\n",
              "       [30, 31, 32, 33, 34, 35]])"
            ]
          },
          "metadata": {
            "tags": []
          },
          "execution_count": 47
        }
      ]
    },
    {
      "cell_type": "code",
      "metadata": {
        "id": "Hl3jH75nVF8e",
        "colab_type": "code",
        "colab": {},
        "outputId": "17e8b973-acf4-419f-cd3c-72972b6621ec"
      },
      "source": [
        "r[2, 2]"
      ],
      "execution_count": null,
      "outputs": [
        {
          "output_type": "execute_result",
          "data": {
            "text/plain": [
              "14"
            ]
          },
          "metadata": {
            "tags": []
          },
          "execution_count": 48
        }
      ]
    },
    {
      "cell_type": "code",
      "metadata": {
        "id": "T0TgAh45VF8l",
        "colab_type": "code",
        "colab": {},
        "outputId": "0459e670-5bb1-4282-9b71-9f73eb1757d8"
      },
      "source": [
        "r[3, 3:6]"
      ],
      "execution_count": null,
      "outputs": [
        {
          "output_type": "execute_result",
          "data": {
            "text/plain": [
              "array([21, 22, 23])"
            ]
          },
          "metadata": {
            "tags": []
          },
          "execution_count": 49
        }
      ]
    },
    {
      "cell_type": "code",
      "metadata": {
        "id": "rWzSOSyUVF8q",
        "colab_type": "code",
        "colab": {},
        "outputId": "68c2a0a7-4015-4614-e5c8-87578b528149"
      },
      "source": [
        "r[:2, :-1]"
      ],
      "execution_count": null,
      "outputs": [
        {
          "output_type": "execute_result",
          "data": {
            "text/plain": [
              "array([[ 0,  1,  2,  3,  4],\n",
              "       [ 6,  7,  8,  9, 10]])"
            ]
          },
          "metadata": {
            "tags": []
          },
          "execution_count": 50
        }
      ]
    },
    {
      "cell_type": "code",
      "metadata": {
        "id": "GGBPXLNXVF8u",
        "colab_type": "code",
        "colab": {},
        "outputId": "b75b771e-8ffe-45fe-a89e-75c1be0a92b9"
      },
      "source": [
        "r[-1,::2]"
      ],
      "execution_count": null,
      "outputs": [
        {
          "output_type": "execute_result",
          "data": {
            "text/plain": [
              "array([30, 32, 34])"
            ]
          },
          "metadata": {
            "tags": []
          },
          "execution_count": 51
        }
      ]
    },
    {
      "cell_type": "code",
      "metadata": {
        "id": "M8PsGMkoVF8z",
        "colab_type": "code",
        "colab": {},
        "outputId": "9571f36b-057f-42b8-cb08-62669547e0e3"
      },
      "source": [
        "# Também podemos usar o operador [] para buscas condicionais.\n",
        "r[r > 31]"
      ],
      "execution_count": null,
      "outputs": [
        {
          "output_type": "execute_result",
          "data": {
            "text/plain": [
              "array([32, 33, 34, 35])"
            ]
          },
          "metadata": {
            "tags": []
          },
          "execution_count": 52
        }
      ]
    },
    {
      "cell_type": "code",
      "metadata": {
        "id": "Psm5XlTdVF82",
        "colab_type": "code",
        "colab": {},
        "outputId": "7d9e7693-b0b7-475c-ed8a-d26d64fcb368"
      },
      "source": [
        "r[r > 12]"
      ],
      "execution_count": null,
      "outputs": [
        {
          "output_type": "execute_result",
          "data": {
            "text/plain": [
              "array([13, 14, 15, 16, 17, 18, 19, 20, 21, 22, 23, 24, 25, 26, 27, 28, 29,\n",
              "       30, 31, 32, 33, 34, 35])"
            ]
          },
          "metadata": {
            "tags": []
          },
          "execution_count": 53
        }
      ]
    },
    {
      "cell_type": "code",
      "metadata": {
        "id": "NzJXK1RDVF88",
        "colab_type": "code",
        "colab": {},
        "outputId": "7cb7d0ee-408b-4653-ae7a-b6d852c207a5"
      },
      "source": [
        "# Também podemos usar o operador de atribuição = com o operador [].\n",
        "# Abaixo substituímos todos os elementos de r maiores que 30 por 30,\n",
        "# limitando assim seu valor máximo para 30.\n",
        "r[r > 30] = 30\n",
        "r"
      ],
      "execution_count": null,
      "outputs": [
        {
          "output_type": "execute_result",
          "data": {
            "text/plain": [
              "array([[ 0,  1,  2,  3,  4,  5],\n",
              "       [ 6,  7,  8,  9, 10, 11],\n",
              "       [12, 13, 14, 15, 16, 17],\n",
              "       [18, 19, 20, 21, 22, 23],\n",
              "       [24, 25, 26, 27, 28, 29],\n",
              "       [30, 30, 30, 30, 30, 30]])"
            ]
          },
          "metadata": {
            "tags": []
          },
          "execution_count": 54
        }
      ]
    },
    {
      "cell_type": "code",
      "metadata": {
        "id": "T3BtsJHdVF9F",
        "colab_type": "code",
        "colab": {},
        "outputId": "9b0a9724-1101-4c1d-d7c0-ce0cf3b3716e"
      },
      "source": [
        "# Pegamos uma fatia do array r e colocamos em r2.\n",
        "r2 = r[:3, :3]\n",
        "r2"
      ],
      "execution_count": null,
      "outputs": [
        {
          "output_type": "execute_result",
          "data": {
            "text/plain": [
              "array([[ 0,  1,  2],\n",
              "       [ 6,  7,  8],\n",
              "       [12, 13, 14]])"
            ]
          },
          "metadata": {
            "tags": []
          },
          "execution_count": 55
        }
      ]
    },
    {
      "cell_type": "code",
      "metadata": {
        "id": "1JKDDBD2VF9J",
        "colab_type": "code",
        "colab": {},
        "outputId": "6f4e0bd4-fdf7-498c-d495-4b8c396916d0"
      },
      "source": [
        "r2[:] = 0\n",
        "r2"
      ],
      "execution_count": null,
      "outputs": [
        {
          "output_type": "execute_result",
          "data": {
            "text/plain": [
              "array([[0, 0, 0],\n",
              "       [0, 0, 0],\n",
              "       [0, 0, 0]])"
            ]
          },
          "metadata": {
            "tags": []
          },
          "execution_count": 56
        }
      ]
    },
    {
      "cell_type": "code",
      "metadata": {
        "id": "wV44Xr2KVF9N",
        "colab_type": "code",
        "colab": {},
        "outputId": "190d51d4-a7fc-4f9b-d5d6-e9e066d8a770"
      },
      "source": [
        "# Olhando o resultado abaixo, podemos ver que as posições de r\n",
        "# passadas para r2 também foram alteradas, o que devemos tomar cuidado.\n",
        "r"
      ],
      "execution_count": null,
      "outputs": [
        {
          "output_type": "execute_result",
          "data": {
            "text/plain": [
              "array([[ 0,  0,  0,  3,  4,  5],\n",
              "       [ 0,  0,  0,  9, 10, 11],\n",
              "       [ 0,  0,  0, 15, 16, 17],\n",
              "       [18, 19, 20, 21, 22, 23],\n",
              "       [24, 25, 26, 27, 28, 29],\n",
              "       [30, 30, 30, 30, 30, 30]])"
            ]
          },
          "metadata": {
            "tags": []
          },
          "execution_count": 57
        }
      ]
    },
    {
      "cell_type": "code",
      "metadata": {
        "id": "PskpPagNVF9U",
        "colab_type": "code",
        "colab": {},
        "outputId": "294eead7-d72c-43c6-bfc7-819c2d9c5f69"
      },
      "source": [
        "# Para gerarmos uma cópia de um array da numpy devemos usar o método copy().\n",
        "r_copy = r.copy()\n",
        "r_copy"
      ],
      "execution_count": null,
      "outputs": [
        {
          "output_type": "execute_result",
          "data": {
            "text/plain": [
              "array([[ 0,  0,  0,  3,  4,  5],\n",
              "       [ 0,  0,  0,  9, 10, 11],\n",
              "       [ 0,  0,  0, 15, 16, 17],\n",
              "       [18, 19, 20, 21, 22, 23],\n",
              "       [24, 25, 26, 27, 28, 29],\n",
              "       [30, 30, 30, 30, 30, 30]])"
            ]
          },
          "metadata": {
            "tags": []
          },
          "execution_count": 58
        }
      ]
    },
    {
      "cell_type": "code",
      "metadata": {
        "id": "uqjkxHIQVF9Z",
        "colab_type": "code",
        "colab": {},
        "outputId": "b925f25f-0262-4899-ce61-ae2c4bec30bd"
      },
      "source": [
        "# Podemos ver agora que se fizermos qualquer alteração em r_copy,\n",
        "# o array r permanecerá inalterado.\n",
        "r_copy[:] = 10\n",
        "print(r_copy)\n",
        "print()\n",
        "print(r)"
      ],
      "execution_count": null,
      "outputs": [
        {
          "output_type": "stream",
          "text": [
            "[[10 10 10 10 10 10]\n",
            " [10 10 10 10 10 10]\n",
            " [10 10 10 10 10 10]\n",
            " [10 10 10 10 10 10]\n",
            " [10 10 10 10 10 10]\n",
            " [10 10 10 10 10 10]]\n",
            "\n",
            "[[ 0  0  0  3  4  5]\n",
            " [ 0  0  0  9 10 11]\n",
            " [ 0  0  0 15 16 17]\n",
            " [18 19 20 21 22 23]\n",
            " [24 25 26 27 28 29]\n",
            " [30 30 30 30 30 30]]\n"
          ],
          "name": "stdout"
        }
      ]
    },
    {
      "cell_type": "markdown",
      "metadata": {
        "id": "fHwz7oJyVF9b",
        "colab_type": "text"
      },
      "source": [
        "## Iterando sobre arrays"
      ]
    },
    {
      "cell_type": "code",
      "metadata": {
        "id": "hOFUwKbnVF9c",
        "colab_type": "code",
        "colab": {},
        "outputId": "1983067b-24ff-4430-a5b9-674377fb59b0"
      },
      "source": [
        "# Gera um array de números aleatórios dentro de um intervalo.\n",
        "# Início do intervalo, tamanho do intervalo, dimensões do array.\n",
        "test = np.random.randint(0, 10, (4, 3))\n",
        "test"
      ],
      "execution_count": null,
      "outputs": [
        {
          "output_type": "execute_result",
          "data": {
            "text/plain": [
              "array([[8, 9, 0],\n",
              "       [4, 4, 2],\n",
              "       [4, 7, 6],\n",
              "       [2, 1, 6]])"
            ]
          },
          "metadata": {
            "tags": []
          },
          "execution_count": 60
        }
      ]
    },
    {
      "cell_type": "code",
      "metadata": {
        "id": "5fKb86XRVF9e",
        "colab_type": "code",
        "colab": {},
        "outputId": "f1ec38de-88b5-46c5-a676-a1674db6d21a"
      },
      "source": [
        "# Iterando por linha.\n",
        "for row in test:\n",
        "    print(row)"
      ],
      "execution_count": null,
      "outputs": [
        {
          "output_type": "stream",
          "text": [
            "[8 9 0]\n",
            "[4 4 2]\n",
            "[4 7 6]\n",
            "[2 1 6]\n"
          ],
          "name": "stdout"
        }
      ]
    },
    {
      "cell_type": "code",
      "metadata": {
        "id": "Jt2kPBmeVF9h",
        "colab_type": "code",
        "colab": {},
        "outputId": "65a7216b-e8a1-463c-c247-c54d4c50efb4"
      },
      "source": [
        "# Outra forma de iterar por linha.\n",
        "for i in range(len(test)):\n",
        "    print(test[i])"
      ],
      "execution_count": null,
      "outputs": [
        {
          "output_type": "stream",
          "text": [
            "[8 9 0]\n",
            "[4 4 2]\n",
            "[4 7 6]\n",
            "[2 1 6]\n"
          ],
          "name": "stdout"
        }
      ]
    },
    {
      "cell_type": "code",
      "metadata": {
        "id": "-UU9H0TWVF9k",
        "colab_type": "code",
        "colab": {},
        "outputId": "954ec7ae-d92e-40fd-d7b6-ead8555cd722"
      },
      "source": [
        "# enumerate(array) enumera o array.\n",
        "# No exemplo abaixo itera o índice da linha e o valor da mesma.\n",
        "for i, row in enumerate(test):\n",
        "    print('row {} is {}'.format(i, row))"
      ],
      "execution_count": null,
      "outputs": [
        {
          "output_type": "stream",
          "text": [
            "row 0 is [8 9 0]\n",
            "row 1 is [4 4 2]\n",
            "row 2 is [4 7 6]\n",
            "row 3 is [2 1 6]\n"
          ],
          "name": "stdout"
        }
      ]
    },
    {
      "cell_type": "code",
      "metadata": {
        "id": "YLTW8JlmVF9n",
        "colab_type": "code",
        "colab": {},
        "outputId": "5ee09276-44db-46d6-f49b-e9c5d607d2a8"
      },
      "source": [
        "test2 = test ** 2\n",
        "test2"
      ],
      "execution_count": null,
      "outputs": [
        {
          "output_type": "execute_result",
          "data": {
            "text/plain": [
              "array([[64, 81,  0],\n",
              "       [16, 16,  4],\n",
              "       [16, 49, 36],\n",
              "       [ 4,  1, 36]])"
            ]
          },
          "metadata": {
            "tags": []
          },
          "execution_count": 64
        }
      ]
    },
    {
      "cell_type": "code",
      "metadata": {
        "id": "C7X1xw6XVF9r",
        "colab_type": "code",
        "colab": {},
        "outputId": "423d397d-3734-4fb2-c224-6fb0523666e4"
      },
      "source": [
        "# A função zip permite iteração entre dois ou mais arrays.\n",
        "for i, j in zip(test, test2):\n",
        "    print('{} + {} = {}'.format(i, j, i + j))"
      ],
      "execution_count": null,
      "outputs": [
        {
          "output_type": "stream",
          "text": [
            "[8 9 0] + [64 81  0] = [72 90  0]\n",
            "[4 4 2] + [16 16  4] = [20 20  6]\n",
            "[4 7 6] + [16 49 36] = [20 56 42]\n",
            "[2 1 6] + [ 4  1 36] = [ 6  2 42]\n"
          ],
          "name": "stdout"
        }
      ]
    },
    {
      "cell_type": "code",
      "metadata": {
        "id": "_dAMBtEfVF9u",
        "colab_type": "code",
        "colab": {},
        "outputId": "096bd75d-dcfe-444d-d726-04d99920a7b6"
      },
      "source": [
        "arr = np.array([1, 7, 14, 21, 28, 35])\n",
        "arr"
      ],
      "execution_count": null,
      "outputs": [
        {
          "output_type": "execute_result",
          "data": {
            "text/plain": [
              "array([ 1,  7, 14, 21, 28, 35])"
            ]
          },
          "metadata": {
            "tags": []
          },
          "execution_count": 66
        }
      ]
    },
    {
      "cell_type": "code",
      "metadata": {
        "id": "h-p5ryLSVF9x",
        "colab_type": "code",
        "colab": {},
        "outputId": "7dd75ebc-5dbf-4ba6-9b18-edce97e1f31d"
      },
      "source": [
        "r = np.diag(arr)\n",
        "r"
      ],
      "execution_count": null,
      "outputs": [
        {
          "output_type": "execute_result",
          "data": {
            "text/plain": [
              "array([[ 1,  0,  0,  0,  0,  0],\n",
              "       [ 0,  7,  0,  0,  0,  0],\n",
              "       [ 0,  0, 14,  0,  0,  0],\n",
              "       [ 0,  0,  0, 21,  0,  0],\n",
              "       [ 0,  0,  0,  0, 28,  0],\n",
              "       [ 0,  0,  0,  0,  0, 35]])"
            ]
          },
          "metadata": {
            "tags": []
          },
          "execution_count": 67
        }
      ]
    },
    {
      "cell_type": "code",
      "metadata": {
        "id": "LuUF1oN1VF90",
        "colab_type": "code",
        "colab": {},
        "outputId": "7781320b-23a5-4d65-e2c2-da668d697554"
      },
      "source": [
        "r.reshape(36)[::7]"
      ],
      "execution_count": null,
      "outputs": [
        {
          "output_type": "execute_result",
          "data": {
            "text/plain": [
              "array([ 1,  7, 14, 21, 28, 35])"
            ]
          },
          "metadata": {
            "tags": []
          },
          "execution_count": 68
        }
      ]
    }
  ]
}